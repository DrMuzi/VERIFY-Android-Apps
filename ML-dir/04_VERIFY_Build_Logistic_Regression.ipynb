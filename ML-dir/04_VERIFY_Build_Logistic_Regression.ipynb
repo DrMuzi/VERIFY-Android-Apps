{
  "nbformat": 4,
  "nbformat_minor": 0,
  "metadata": {
    "colab": {
      "name": "04-VERIFY-Build_Logistic_Regression",
      "provenance": [],
      "authorship_tag": "ABX9TyOKz+w42aGlAMkXgoCq0k2W",
      "include_colab_link": true
    },
    "kernelspec": {
      "name": "python3",
      "display_name": "Python 3"
    },
    "language_info": {
      "name": "python"
    },
    "accelerator": "GPU"
  },
  "cells": [
    {
      "cell_type": "markdown",
      "metadata": {
        "id": "view-in-github",
        "colab_type": "text"
      },
      "source": [
        "<a href=\"https://colab.research.google.com/github/B21-CAP0133/verify-android-app/blob/master/ML-dir/04_VERIFY_Build_Logistic_Regression.ipynb\" target=\"_parent\"><img src=\"https://colab.research.google.com/assets/colab-badge.svg\" alt=\"Open In Colab\"/></a>"
      ]
    },
    {
      "cell_type": "code",
      "metadata": {
        "id": "9_Q9gElff5hr"
      },
      "source": [
        "import pandas as pd\n",
        "from sklearn.linear_model import LogisticRegression\n",
        "from sklearn.model_selection import cross_val_score, StratifiedKFold, train_test_split\n",
        "from sklearn.feature_extraction.text import TfidfVectorizer, CountVectorizer, TfidfTransformer\n",
        "from matplotlib import pyplot as plt\n",
        "import seaborn as sns\n",
        "import pickle\n",
        "import numpy as np\n",
        "from sklearn.metrics import accuracy_score, f1_score, precision_score"
      ],
      "execution_count": 39,
      "outputs": []
    },
    {
      "cell_type": "code",
      "metadata": {
        "colab": {
          "base_uri": "https://localhost:8080/",
          "height": 206
        },
        "id": "7v-wiUGQg1h1",
        "outputId": "f1ca4b57-0130-4547-8088-bd03cffd092b"
      },
      "source": [
        "df = pd.read_csv('verify_dataset_clean.csv')\n",
        "df.sample(5)"
      ],
      "execution_count": 4,
      "outputs": [
        {
          "output_type": "execute_result",
          "data": {
            "text/html": [
              "<div>\n",
              "<style scoped>\n",
              "    .dataframe tbody tr th:only-of-type {\n",
              "        vertical-align: middle;\n",
              "    }\n",
              "\n",
              "    .dataframe tbody tr th {\n",
              "        vertical-align: top;\n",
              "    }\n",
              "\n",
              "    .dataframe thead th {\n",
              "        text-align: right;\n",
              "    }\n",
              "</style>\n",
              "<table border=\"1\" class=\"dataframe\">\n",
              "  <thead>\n",
              "    <tr style=\"text-align: right;\">\n",
              "      <th></th>\n",
              "      <th>Judul</th>\n",
              "      <th>Label</th>\n",
              "    </tr>\n",
              "  </thead>\n",
              "  <tbody>\n",
              "    <tr>\n",
              "      <th>2594</th>\n",
              "      <td>google translate jokowi thu khang thi phu</td>\n",
              "      <td>1</td>\n",
              "    </tr>\n",
              "    <tr>\n",
              "      <th>1622</th>\n",
              "      <td>kursi gbk rusak parah pasca laga indonesia vs ...</td>\n",
              "      <td>0</td>\n",
              "    </tr>\n",
              "    <tr>\n",
              "      <th>3053</th>\n",
              "      <td>sdh legal maksiat</td>\n",
              "      <td>1</td>\n",
              "    </tr>\n",
              "    <tr>\n",
              "      <th>4208</th>\n",
              "      <td>jelas menko polhukam isu politik kini</td>\n",
              "      <td>1</td>\n",
              "    </tr>\n",
              "    <tr>\n",
              "      <th>2618</th>\n",
              "      <td>hebat polisi malaysia</td>\n",
              "      <td>1</td>\n",
              "    </tr>\n",
              "  </tbody>\n",
              "</table>\n",
              "</div>"
            ],
            "text/plain": [
              "                                                  Judul  Label\n",
              "2594          google translate jokowi thu khang thi phu      1\n",
              "1622  kursi gbk rusak parah pasca laga indonesia vs ...      0\n",
              "3053                                  sdh legal maksiat      1\n",
              "4208              jelas menko polhukam isu politik kini      1\n",
              "2618                              hebat polisi malaysia      1"
            ]
          },
          "metadata": {
            "tags": []
          },
          "execution_count": 4
        }
      ]
    },
    {
      "cell_type": "code",
      "metadata": {
        "id": "eao5esopg7X2"
      },
      "source": [
        "x_train_text, x_test_text, y_train, y_test = train_test_split(df['Judul'], df['Label'], test_size=0.1)"
      ],
      "execution_count": 5,
      "outputs": []
    },
    {
      "cell_type": "code",
      "metadata": {
        "id": "jUeG_sLpg9V5"
      },
      "source": [
        "transformer = TfidfVectorizer(\n",
        "    ngram_range = (1, 2), \n",
        "    max_features = None,\n",
        "    max_df = 0.5,\n",
        "    use_idf = True,\n",
        "    norm = 'l2'\n",
        "    )"
      ],
      "execution_count": 6,
      "outputs": []
    },
    {
      "cell_type": "code",
      "metadata": {
        "id": "reBYpBHHhTrl"
      },
      "source": [
        "x_train = transformer.fit_transform(x_train_text)\n",
        "x_test = transformer.transform(x_test_text)"
      ],
      "execution_count": 19,
      "outputs": []
    },
    {
      "cell_type": "code",
      "metadata": {
        "colab": {
          "base_uri": "https://localhost:8080/"
        },
        "id": "BmrItSPkhWD7",
        "outputId": "0c15ae48-1f7b-47f6-d4f1-41fd535d986a"
      },
      "source": [
        "x_train.shape, x_test.shape"
      ],
      "execution_count": 20,
      "outputs": [
        {
          "output_type": "execute_result",
          "data": {
            "text/plain": [
              "((6549, 41464), (728, 41464))"
            ]
          },
          "metadata": {
            "tags": []
          },
          "execution_count": 20
        }
      ]
    },
    {
      "cell_type": "code",
      "metadata": {
        "colab": {
          "base_uri": "https://localhost:8080/"
        },
        "id": "hTkFdiF0hXq0",
        "outputId": "5897a16e-47aa-4026-863d-11929bbe3f0b"
      },
      "source": [
        "len(y_train), len(y_test)"
      ],
      "execution_count": 9,
      "outputs": [
        {
          "output_type": "execute_result",
          "data": {
            "text/plain": [
              "(6549, 728)"
            ]
          },
          "metadata": {
            "tags": []
          },
          "execution_count": 9
        }
      ]
    },
    {
      "cell_type": "code",
      "metadata": {
        "id": "D8vPJSE1hanD"
      },
      "source": [
        "verify_logreg = LogisticRegression(\n",
        "    C = 774.2636826811278, \n",
        "    solver='saga', \n",
        "    penalty = 'l1',\n",
        "    max_iter = 5000\n",
        "    )"
      ],
      "execution_count": 10,
      "outputs": []
    },
    {
      "cell_type": "code",
      "metadata": {
        "id": "YwFj3HJUhktX"
      },
      "source": [
        "skf = StratifiedKFold(\n",
        "    n_splits=5,\n",
        "    shuffle=True,\n",
        "    random_state=17\n",
        "    )"
      ],
      "execution_count": 11,
      "outputs": []
    },
    {
      "cell_type": "code",
      "metadata": {
        "id": "ygrRorSghozI"
      },
      "source": [
        "cv_results = cross_val_score(\n",
        "    verify_logreg, \n",
        "    x_train, \n",
        "    y_train, \n",
        "    cv=skf, \n",
        "    scoring='accuracy'\n",
        "    )"
      ],
      "execution_count": null,
      "outputs": []
    },
    {
      "cell_type": "code",
      "metadata": {
        "id": "omjietv-iTAu"
      },
      "source": [
        "cv_results, cv_results.mean()"
      ],
      "execution_count": 13,
      "outputs": []
    },
    {
      "cell_type": "code",
      "metadata": {
        "colab": {
          "base_uri": "https://localhost:8080/"
        },
        "id": "866goAT9po5Y",
        "outputId": "a1ece491-f4ff-479c-bdda-9b80c4a5f979"
      },
      "source": [
        "verify_logreg.fit(x_train, y_train)"
      ],
      "execution_count": 14,
      "outputs": [
        {
          "output_type": "execute_result",
          "data": {
            "text/plain": [
              "LogisticRegression(C=774.2636826811278, class_weight=None, dual=False,\n",
              "                   fit_intercept=True, intercept_scaling=1, l1_ratio=None,\n",
              "                   max_iter=5000, multi_class='auto', n_jobs=None, penalty='l1',\n",
              "                   random_state=None, solver='saga', tol=0.0001, verbose=0,\n",
              "                   warm_start=False)"
            ]
          },
          "metadata": {
            "tags": []
          },
          "execution_count": 14
        }
      ]
    },
    {
      "cell_type": "code",
      "metadata": {
        "id": "iymlFwyTp36k"
      },
      "source": [
        "test_preds = verify_logreg.predict(x_test)"
      ],
      "execution_count": 21,
      "outputs": []
    },
    {
      "cell_type": "code",
      "metadata": {
        "id": "O31XBIBArapZ"
      },
      "source": [
        "dfP = pd.DataFrame(x_test_text, columns=['Judul'])\n",
        "dfP['Predict'] = test_preds\n",
        "dfP['True'] = y_test"
      ],
      "execution_count": 22,
      "outputs": []
    },
    {
      "cell_type": "code",
      "metadata": {
        "colab": {
          "base_uri": "https://localhost:8080/",
          "height": 206
        },
        "id": "QPSWmlFHrjav",
        "outputId": "48c08856-250e-483e-d7d6-d9d3efba38aa"
      },
      "source": [
        "dfP.head()"
      ],
      "execution_count": 23,
      "outputs": [
        {
          "output_type": "execute_result",
          "data": {
            "text/html": [
              "<div>\n",
              "<style scoped>\n",
              "    .dataframe tbody tr th:only-of-type {\n",
              "        vertical-align: middle;\n",
              "    }\n",
              "\n",
              "    .dataframe tbody tr th {\n",
              "        vertical-align: top;\n",
              "    }\n",
              "\n",
              "    .dataframe thead th {\n",
              "        text-align: right;\n",
              "    }\n",
              "</style>\n",
              "<table border=\"1\" class=\"dataframe\">\n",
              "  <thead>\n",
              "    <tr style=\"text-align: right;\">\n",
              "      <th></th>\n",
              "      <th>Judul</th>\n",
              "      <th>Predict</th>\n",
              "      <th>True</th>\n",
              "    </tr>\n",
              "  </thead>\n",
              "  <tbody>\n",
              "    <tr>\n",
              "      <th>4853</th>\n",
              "      <td>foto aliansi kerja panjang sudirmankuningan</td>\n",
              "      <td>1</td>\n",
              "      <td>1</td>\n",
              "    </tr>\n",
              "    <tr>\n",
              "      <th>845</th>\n",
              "      <td>yang tau di lengan kanan bagi atas seragam ten...</td>\n",
              "      <td>1</td>\n",
              "      <td>1</td>\n",
              "    </tr>\n",
              "    <tr>\n",
              "      <th>4058</th>\n",
              "      <td>umat islam new zealand bakar gereja</td>\n",
              "      <td>1</td>\n",
              "      <td>1</td>\n",
              "    </tr>\n",
              "    <tr>\n",
              "      <th>5515</th>\n",
              "      <td>menpora dukung batal kirim atlet china masters</td>\n",
              "      <td>1</td>\n",
              "      <td>0</td>\n",
              "    </tr>\n",
              "    <tr>\n",
              "      <th>4464</th>\n",
              "      <td>uang pecah rp 200 ribu resmi luncur</td>\n",
              "      <td>1</td>\n",
              "      <td>1</td>\n",
              "    </tr>\n",
              "  </tbody>\n",
              "</table>\n",
              "</div>"
            ],
            "text/plain": [
              "                                                  Judul  Predict  True\n",
              "4853        foto aliansi kerja panjang sudirmankuningan        1     1\n",
              "845   yang tau di lengan kanan bagi atas seragam ten...        1     1\n",
              "4058                umat islam new zealand bakar gereja        1     1\n",
              "5515     menpora dukung batal kirim atlet china masters        1     0\n",
              "4464                uang pecah rp 200 ribu resmi luncur        1     1"
            ]
          },
          "metadata": {
            "tags": []
          },
          "execution_count": 23
        }
      ]
    },
    {
      "cell_type": "code",
      "metadata": {
        "colab": {
          "base_uri": "https://localhost:8080/"
        },
        "id": "RyhbxvAg_j80",
        "outputId": "f5352b4f-101b-4278-8689-ba8e3cfa9c7c"
      },
      "source": [
        "def my_metrics(y_true, y_pred):\n",
        "    accuracy=accuracy_score(y_true, y_pred)\n",
        "    precision=precision_score(y_true, y_pred,average='weighted')\n",
        "    f1Score=f1_score(y_true, y_pred, average='weighted') \n",
        "    print(\"Accuracy  : {}\".format(accuracy))\n",
        "    print(\"Precision : {}\".format(precision))\n",
        "    print(\"f1Score : {}\".format(f1Score))\n",
        "    \n",
        "    return accuracy, precision, f1Score\n",
        "\n",
        "my_metrics(y_test, test_preds)"
      ],
      "execution_count": 40,
      "outputs": [
        {
          "output_type": "stream",
          "text": [
            "Accuracy  : 0.8104395604395604\n",
            "Precision : 0.8099377215721315\n",
            "f1Score : 0.8101323696853504\n"
          ],
          "name": "stdout"
        },
        {
          "output_type": "execute_result",
          "data": {
            "text/plain": [
              "(0.8104395604395604, 0.8099377215721315, 0.8101323696853504)"
            ]
          },
          "metadata": {
            "tags": []
          },
          "execution_count": 40
        }
      ]
    },
    {
      "cell_type": "code",
      "metadata": {
        "colab": {
          "base_uri": "https://localhost:8080/"
        },
        "id": "Jemkni66rk6x",
        "outputId": "2c423bed-0526-4825-99fd-52c97235b767"
      },
      "source": [
        "confusion_matrix = pd.crosstab(dfP['True'], dfP['Predict'], rownames=['Actual'], colnames=['Predicted'])\n",
        "print(confusion_matrix)\n",
        "#sns.heatmap(confusion_matrix, annot=True)\n",
        "#plt.show()"
      ],
      "execution_count": 25,
      "outputs": [
        {
          "output_type": "stream",
          "text": [
            "Predicted    0    1\n",
            "Actual             \n",
            "0          226   72\n",
            "1           66  364\n"
          ],
          "name": "stdout"
        }
      ]
    },
    {
      "cell_type": "code",
      "metadata": {
        "id": "uwi5TC3HsqKg"
      },
      "source": [
        "verify_logreg_model = 'verify_logreg_model.sav'\n",
        "pickle.dump(verify_logreg, open(verify_logreg_model, 'wb'))"
      ],
      "execution_count": 26,
      "outputs": []
    },
    {
      "cell_type": "code",
      "metadata": {
        "id": "QhGGpbi9tHF6"
      },
      "source": [
        "predict_proba = verify_logreg.predict_proba(x_test)"
      ],
      "execution_count": 27,
      "outputs": []
    },
    {
      "cell_type": "code",
      "metadata": {
        "id": "O1VCC61wxuTI"
      },
      "source": [
        "i = 0\n",
        "hoax_prob_long = []\n",
        "for hoax in predict_proba:\n",
        "  hoax_prob_long.append(predict_proba[i,1]*100)\n",
        "  i+=1\n",
        "\n",
        "hoax_prob = []\n",
        "for j in hoax_prob_long:\n",
        "  hoax_prob.append('{:.1f}'.format(j))"
      ],
      "execution_count": 28,
      "outputs": []
    },
    {
      "cell_type": "code",
      "metadata": {
        "id": "E74fWwW-y-OT"
      },
      "source": [
        "dfP['Hoax Probaility'] = hoax_prob"
      ],
      "execution_count": 29,
      "outputs": []
    },
    {
      "cell_type": "code",
      "metadata": {
        "colab": {
          "base_uri": "https://localhost:8080/",
          "height": 206
        },
        "id": "bY8X23zTz1G5",
        "outputId": "dfdeebd2-9aaa-46db-efce-dc6bdec2fcfd"
      },
      "source": [
        "dfP.head()"
      ],
      "execution_count": 30,
      "outputs": [
        {
          "output_type": "execute_result",
          "data": {
            "text/html": [
              "<div>\n",
              "<style scoped>\n",
              "    .dataframe tbody tr th:only-of-type {\n",
              "        vertical-align: middle;\n",
              "    }\n",
              "\n",
              "    .dataframe tbody tr th {\n",
              "        vertical-align: top;\n",
              "    }\n",
              "\n",
              "    .dataframe thead th {\n",
              "        text-align: right;\n",
              "    }\n",
              "</style>\n",
              "<table border=\"1\" class=\"dataframe\">\n",
              "  <thead>\n",
              "    <tr style=\"text-align: right;\">\n",
              "      <th></th>\n",
              "      <th>Judul</th>\n",
              "      <th>Predict</th>\n",
              "      <th>True</th>\n",
              "      <th>Hoax Probaility</th>\n",
              "    </tr>\n",
              "  </thead>\n",
              "  <tbody>\n",
              "    <tr>\n",
              "      <th>4853</th>\n",
              "      <td>foto aliansi kerja panjang sudirmankuningan</td>\n",
              "      <td>1</td>\n",
              "      <td>1</td>\n",
              "      <td>99.7</td>\n",
              "    </tr>\n",
              "    <tr>\n",
              "      <th>845</th>\n",
              "      <td>yang tau di lengan kanan bagi atas seragam ten...</td>\n",
              "      <td>1</td>\n",
              "      <td>1</td>\n",
              "      <td>99.8</td>\n",
              "    </tr>\n",
              "    <tr>\n",
              "      <th>4058</th>\n",
              "      <td>umat islam new zealand bakar gereja</td>\n",
              "      <td>1</td>\n",
              "      <td>1</td>\n",
              "      <td>99.6</td>\n",
              "    </tr>\n",
              "    <tr>\n",
              "      <th>5515</th>\n",
              "      <td>menpora dukung batal kirim atlet china masters</td>\n",
              "      <td>1</td>\n",
              "      <td>0</td>\n",
              "      <td>86.3</td>\n",
              "    </tr>\n",
              "    <tr>\n",
              "      <th>4464</th>\n",
              "      <td>uang pecah rp 200 ribu resmi luncur</td>\n",
              "      <td>1</td>\n",
              "      <td>1</td>\n",
              "      <td>99.1</td>\n",
              "    </tr>\n",
              "  </tbody>\n",
              "</table>\n",
              "</div>"
            ],
            "text/plain": [
              "                                                  Judul  ...  Hoax Probaility\n",
              "4853        foto aliansi kerja panjang sudirmankuningan  ...             99.7\n",
              "845   yang tau di lengan kanan bagi atas seragam ten...  ...             99.8\n",
              "4058                umat islam new zealand bakar gereja  ...             99.6\n",
              "5515     menpora dukung batal kirim atlet china masters  ...             86.3\n",
              "4464                uang pecah rp 200 ribu resmi luncur  ...             99.1\n",
              "\n",
              "[5 rows x 4 columns]"
            ]
          },
          "metadata": {
            "tags": []
          },
          "execution_count": 30
        }
      ]
    },
    {
      "cell_type": "code",
      "metadata": {
        "id": "PIb9TQVlz4Nl"
      },
      "source": [
        "dfP.loc[dfP['True'] == 1, \n",
        "       'True'] = 'HOAX'\n",
        "dfP.loc[dfP['True'] == 0, \n",
        "       'True'] = 'BUKAN HOAX'"
      ],
      "execution_count": 31,
      "outputs": []
    },
    {
      "cell_type": "code",
      "metadata": {
        "id": "GMEwalPf1Fm8"
      },
      "source": [
        "dfP_final = dfP.drop(columns=['Predict'])"
      ],
      "execution_count": 32,
      "outputs": []
    },
    {
      "cell_type": "code",
      "metadata": {
        "colab": {
          "base_uri": "https://localhost:8080/",
          "height": 206
        },
        "id": "XLA92v0s1cOR",
        "outputId": "e22d357a-8792-44a4-82c3-08c3f923cfb4"
      },
      "source": [
        "dfP_final.columns = ['Judul', 'Actual', 'Hoax Probability']\n",
        "\n",
        "dfP_final = dfP_final[['Judul', 'Hoax Probability', 'Actual']]\n",
        "\n",
        "dfP_final.head()"
      ],
      "execution_count": 33,
      "outputs": [
        {
          "output_type": "execute_result",
          "data": {
            "text/html": [
              "<div>\n",
              "<style scoped>\n",
              "    .dataframe tbody tr th:only-of-type {\n",
              "        vertical-align: middle;\n",
              "    }\n",
              "\n",
              "    .dataframe tbody tr th {\n",
              "        vertical-align: top;\n",
              "    }\n",
              "\n",
              "    .dataframe thead th {\n",
              "        text-align: right;\n",
              "    }\n",
              "</style>\n",
              "<table border=\"1\" class=\"dataframe\">\n",
              "  <thead>\n",
              "    <tr style=\"text-align: right;\">\n",
              "      <th></th>\n",
              "      <th>Judul</th>\n",
              "      <th>Hoax Probability</th>\n",
              "      <th>Actual</th>\n",
              "    </tr>\n",
              "  </thead>\n",
              "  <tbody>\n",
              "    <tr>\n",
              "      <th>4853</th>\n",
              "      <td>foto aliansi kerja panjang sudirmankuningan</td>\n",
              "      <td>99.7</td>\n",
              "      <td>HOAX</td>\n",
              "    </tr>\n",
              "    <tr>\n",
              "      <th>845</th>\n",
              "      <td>yang tau di lengan kanan bagi atas seragam ten...</td>\n",
              "      <td>99.8</td>\n",
              "      <td>HOAX</td>\n",
              "    </tr>\n",
              "    <tr>\n",
              "      <th>4058</th>\n",
              "      <td>umat islam new zealand bakar gereja</td>\n",
              "      <td>99.6</td>\n",
              "      <td>HOAX</td>\n",
              "    </tr>\n",
              "    <tr>\n",
              "      <th>5515</th>\n",
              "      <td>menpora dukung batal kirim atlet china masters</td>\n",
              "      <td>86.3</td>\n",
              "      <td>BUKAN HOAX</td>\n",
              "    </tr>\n",
              "    <tr>\n",
              "      <th>4464</th>\n",
              "      <td>uang pecah rp 200 ribu resmi luncur</td>\n",
              "      <td>99.1</td>\n",
              "      <td>HOAX</td>\n",
              "    </tr>\n",
              "  </tbody>\n",
              "</table>\n",
              "</div>"
            ],
            "text/plain": [
              "                                                  Judul  ...      Actual\n",
              "4853        foto aliansi kerja panjang sudirmankuningan  ...        HOAX\n",
              "845   yang tau di lengan kanan bagi atas seragam ten...  ...        HOAX\n",
              "4058                umat islam new zealand bakar gereja  ...        HOAX\n",
              "5515     menpora dukung batal kirim atlet china masters  ...  BUKAN HOAX\n",
              "4464                uang pecah rp 200 ribu resmi luncur  ...        HOAX\n",
              "\n",
              "[5 rows x 3 columns]"
            ]
          },
          "metadata": {
            "tags": []
          },
          "execution_count": 33
        }
      ]
    },
    {
      "cell_type": "code",
      "metadata": {
        "id": "MKl9V28q2P1Q"
      },
      "source": [
        "dfP_final.to_csv('hasil_verify_logreg_model.csv', index=False)"
      ],
      "execution_count": 34,
      "outputs": []
    },
    {
      "cell_type": "code",
      "metadata": {
        "id": "NBt93j2j_DvE"
      },
      "source": [
        ""
      ],
      "execution_count": null,
      "outputs": []
    }
  ]
}