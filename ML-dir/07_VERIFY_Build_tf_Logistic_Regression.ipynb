{
  "nbformat": 4,
  "nbformat_minor": 0,
  "metadata": {
    "colab": {
      "name": "07-VERIFY-Build_tf_Logistic_Regression",
      "provenance": [],
      "authorship_tag": "ABX9TyMZTzPpBYKDCAB4daBBPjYI",
      "include_colab_link": true
    },
    "kernelspec": {
      "name": "python3",
      "display_name": "Python 3"
    },
    "language_info": {
      "name": "python"
    },
    "accelerator": "GPU"
  },
  "cells": [
    {
      "cell_type": "markdown",
      "metadata": {
        "id": "view-in-github",
        "colab_type": "text"
      },
      "source": [
        "<a href=\"https://colab.research.google.com/github/B21-CAP0133/verify-android-app/blob/master/ML-dir/07_VERIFY_Build_tf_Logistic_Regression.ipynb\" target=\"_parent\"><img src=\"https://colab.research.google.com/assets/colab-badge.svg\" alt=\"Open In Colab\"/></a>"
      ]
    },
    {
      "cell_type": "code",
      "metadata": {
        "id": "V42YNLfgEO6s"
      },
      "source": [
        "import numpy as np\n",
        "import tensorflow as tf\n",
        "import pandas as pd\n",
        "from sklearn.model_selection import cross_val_score, StratifiedKFold, train_test_split\n",
        "from sklearn.feature_extraction.text import CountVectorizer, TfidfTransformer\n",
        "from tensorflow.keras.optimizers import Adam\n",
        "import pickle\n",
        "import matplotlib.pyplot as plt\n",
        "import pathlib\n",
        "\n",
        "import tensorflow_hub as hub"
      ],
      "execution_count": 17,
      "outputs": []
    },
    {
      "cell_type": "code",
      "metadata": {
        "colab": {
          "base_uri": "https://localhost:8080/",
          "height": 206
        },
        "id": "_zfB2ZIYFC6P",
        "outputId": "801616df-5c63-465a-dfb1-c3ab83bc87ba"
      },
      "source": [
        "df = pd.read_csv('verify_dataset_clean.csv')\n",
        "df.sample(5)"
      ],
      "execution_count": 2,
      "outputs": [
        {
          "output_type": "execute_result",
          "data": {
            "text/html": [
              "<div>\n",
              "<style scoped>\n",
              "    .dataframe tbody tr th:only-of-type {\n",
              "        vertical-align: middle;\n",
              "    }\n",
              "\n",
              "    .dataframe tbody tr th {\n",
              "        vertical-align: top;\n",
              "    }\n",
              "\n",
              "    .dataframe thead th {\n",
              "        text-align: right;\n",
              "    }\n",
              "</style>\n",
              "<table border=\"1\" class=\"dataframe\">\n",
              "  <thead>\n",
              "    <tr style=\"text-align: right;\">\n",
              "      <th></th>\n",
              "      <th>Judul</th>\n",
              "      <th>Label</th>\n",
              "    </tr>\n",
              "  </thead>\n",
              "  <tbody>\n",
              "    <tr>\n",
              "      <th>6006</th>\n",
              "      <td>ketua pssi terima kasih atas abdi ratu tisha</td>\n",
              "      <td>0</td>\n",
              "    </tr>\n",
              "    <tr>\n",
              "      <th>2528</th>\n",
              "      <td>pesan beranta taman raya tahap v zona merah co...</td>\n",
              "      <td>1</td>\n",
              "    </tr>\n",
              "    <tr>\n",
              "      <th>219</th>\n",
              "      <td>prof tokuda terseyum lihat data curang kpu</td>\n",
              "      <td>1</td>\n",
              "    </tr>\n",
              "    <tr>\n",
              "      <th>1952</th>\n",
              "      <td>foto robek bakar kencing alquran wanita langsu...</td>\n",
              "      <td>1</td>\n",
              "    </tr>\n",
              "    <tr>\n",
              "      <th>3128</th>\n",
              "      <td>baju adat tiongkok china gambar uang pecah 75 ...</td>\n",
              "      <td>1</td>\n",
              "    </tr>\n",
              "  </tbody>\n",
              "</table>\n",
              "</div>"
            ],
            "text/plain": [
              "                                                  Judul  Label\n",
              "6006       ketua pssi terima kasih atas abdi ratu tisha      0\n",
              "2528  pesan beranta taman raya tahap v zona merah co...      1\n",
              "219          prof tokuda terseyum lihat data curang kpu      1\n",
              "1952  foto robek bakar kencing alquran wanita langsu...      1\n",
              "3128  baju adat tiongkok china gambar uang pecah 75 ...      1"
            ]
          },
          "metadata": {
            "tags": []
          },
          "execution_count": 2
        }
      ]
    },
    {
      "cell_type": "code",
      "metadata": {
        "id": "vTyL4iOWFJ2b"
      },
      "source": [
        "x_train_text, x_test_text, y_train, y_test = train_test_split(df['Judul'], df['Label'], test_size=0.1)"
      ],
      "execution_count": 3,
      "outputs": []
    },
    {
      "cell_type": "code",
      "metadata": {
        "id": "OeJrD_YmFWqj"
      },
      "source": [
        "vectorizer = CountVectorizer(\n",
        "    ngram_range = (1, 2),\n",
        "    decode_error = 'replace',\n",
        "    max_df = 0.5,\n",
        "    max_features = None\n",
        ")\n",
        "\n",
        "pickle.dump(vectorizer.vocabulary, open('fitur.pkl', 'wb'))"
      ],
      "execution_count": 4,
      "outputs": []
    },
    {
      "cell_type": "code",
      "metadata": {
        "id": "6QtVjMOeFbDY"
      },
      "source": [
        "transformer = TfidfTransformer(\n",
        "    norm = 'l2',\n",
        "    use_idf = True\n",
        ")"
      ],
      "execution_count": 5,
      "outputs": []
    },
    {
      "cell_type": "code",
      "metadata": {
        "id": "zEG8FA5TFfjk"
      },
      "source": [
        "x_train = transformer.fit_transform(vectorizer.fit_transform(np.array(x_train_text))).toarray()\n",
        "x_test = transformer.transform(vectorizer.transform(np.array(x_test_text))).toarray()"
      ],
      "execution_count": 6,
      "outputs": []
    },
    {
      "cell_type": "code",
      "metadata": {
        "colab": {
          "base_uri": "https://localhost:8080/"
        },
        "id": "cH2zz_geFhpa",
        "outputId": "ad88c234-c1b6-4348-b068-12728f95027f"
      },
      "source": [
        "x_train.shape, x_test.shape"
      ],
      "execution_count": 7,
      "outputs": [
        {
          "output_type": "execute_result",
          "data": {
            "text/plain": [
              "((6549, 41479), (728, 41479))"
            ]
          },
          "metadata": {
            "tags": []
          },
          "execution_count": 7
        }
      ]
    },
    {
      "cell_type": "code",
      "metadata": {
        "colab": {
          "base_uri": "https://localhost:8080/"
        },
        "id": "hFBm7SLVFjRR",
        "outputId": "ab7e9e96-c9b8-4203-c5ed-6257da8a4afd"
      },
      "source": [
        "len(y_train), len(y_test)"
      ],
      "execution_count": 8,
      "outputs": [
        {
          "output_type": "execute_result",
          "data": {
            "text/plain": [
              "(6549, 728)"
            ]
          },
          "metadata": {
            "tags": []
          },
          "execution_count": 8
        }
      ]
    },
    {
      "cell_type": "code",
      "metadata": {
        "id": "w0LJc2acFlD1",
        "colab": {
          "base_uri": "https://localhost:8080/"
        },
        "outputId": "ac03e3ad-4714-4ec0-bff9-2227b087663d"
      },
      "source": [
        "model = tf.keras.Sequential([\n",
        "  tf.keras.layers.Dense(1, input_shape=(x_train.shape[1],), activation='sigmoid'),\n",
        "])\n",
        "\n",
        "model.summary()\n",
        "\n",
        "opt = Adam()\n",
        "model.compile(optimizer = opt,\n",
        "              loss = 'binary_crossentropy',\n",
        "              metrics = ['accuracy']\n",
        "              )"
      ],
      "execution_count": 9,
      "outputs": [
        {
          "output_type": "stream",
          "text": [
            "Model: \"sequential\"\n",
            "_________________________________________________________________\n",
            "Layer (type)                 Output Shape              Param #   \n",
            "=================================================================\n",
            "dense (Dense)                (None, 1)                 41480     \n",
            "=================================================================\n",
            "Total params: 41,480\n",
            "Trainable params: 41,480\n",
            "Non-trainable params: 0\n",
            "_________________________________________________________________\n"
          ],
          "name": "stdout"
        }
      ]
    },
    {
      "cell_type": "code",
      "metadata": {
        "id": "KmVjwPcnF3nt",
        "colab": {
          "base_uri": "https://localhost:8080/"
        },
        "outputId": "29807f6b-ec51-4d5d-ece2-0842d4e4fc5c"
      },
      "source": [
        "history = model.fit(x_train, y_train,\n",
        "                    validation_data = (x_test, y_test),\n",
        "                    epochs = 50,\n",
        "                    shuffle = True\n",
        "                    )"
      ],
      "execution_count": 10,
      "outputs": [
        {
          "output_type": "stream",
          "text": [
            "Epoch 1/50\n",
            "205/205 [==============================] - 5s 7ms/step - loss: 0.6888 - accuracy: 0.5628 - val_loss: 0.6719 - val_accuracy: 0.5907\n",
            "Epoch 2/50\n",
            "205/205 [==============================] - 1s 5ms/step - loss: 0.6625 - accuracy: 0.5777 - val_loss: 0.6545 - val_accuracy: 0.6044\n",
            "Epoch 3/50\n",
            "205/205 [==============================] - 1s 5ms/step - loss: 0.6358 - accuracy: 0.6149 - val_loss: 0.6395 - val_accuracy: 0.6250\n",
            "Epoch 4/50\n",
            "205/205 [==============================] - 1s 5ms/step - loss: 0.6123 - accuracy: 0.6809 - val_loss: 0.6258 - val_accuracy: 0.6511\n",
            "Epoch 5/50\n",
            "205/205 [==============================] - 1s 5ms/step - loss: 0.5876 - accuracy: 0.7529 - val_loss: 0.6130 - val_accuracy: 0.7143\n",
            "Epoch 6/50\n",
            "205/205 [==============================] - 1s 5ms/step - loss: 0.5693 - accuracy: 0.8151 - val_loss: 0.6011 - val_accuracy: 0.7335\n",
            "Epoch 7/50\n",
            "205/205 [==============================] - 1s 5ms/step - loss: 0.5500 - accuracy: 0.8635 - val_loss: 0.5897 - val_accuracy: 0.7500\n",
            "Epoch 8/50\n",
            "205/205 [==============================] - 1s 5ms/step - loss: 0.5278 - accuracy: 0.8925 - val_loss: 0.5788 - val_accuracy: 0.7651\n",
            "Epoch 9/50\n",
            "205/205 [==============================] - 1s 5ms/step - loss: 0.5074 - accuracy: 0.9219 - val_loss: 0.5686 - val_accuracy: 0.7885\n",
            "Epoch 10/50\n",
            "205/205 [==============================] - 1s 5ms/step - loss: 0.4921 - accuracy: 0.9383 - val_loss: 0.5588 - val_accuracy: 0.7953\n",
            "Epoch 11/50\n",
            "205/205 [==============================] - 1s 5ms/step - loss: 0.4719 - accuracy: 0.9370 - val_loss: 0.5497 - val_accuracy: 0.8146\n",
            "Epoch 12/50\n",
            "205/205 [==============================] - 1s 5ms/step - loss: 0.4619 - accuracy: 0.9525 - val_loss: 0.5410 - val_accuracy: 0.8214\n",
            "Epoch 13/50\n",
            "205/205 [==============================] - 1s 5ms/step - loss: 0.4420 - accuracy: 0.9620 - val_loss: 0.5327 - val_accuracy: 0.8365\n",
            "Epoch 14/50\n",
            "205/205 [==============================] - 1s 5ms/step - loss: 0.4257 - accuracy: 0.9669 - val_loss: 0.5248 - val_accuracy: 0.8434\n",
            "Epoch 15/50\n",
            "205/205 [==============================] - 1s 5ms/step - loss: 0.4136 - accuracy: 0.9638 - val_loss: 0.5173 - val_accuracy: 0.8475\n",
            "Epoch 16/50\n",
            "205/205 [==============================] - 1s 5ms/step - loss: 0.4007 - accuracy: 0.9720 - val_loss: 0.5101 - val_accuracy: 0.8503\n",
            "Epoch 17/50\n",
            "205/205 [==============================] - 1s 5ms/step - loss: 0.3890 - accuracy: 0.9711 - val_loss: 0.5032 - val_accuracy: 0.8503\n",
            "Epoch 18/50\n",
            "205/205 [==============================] - 1s 5ms/step - loss: 0.3741 - accuracy: 0.9712 - val_loss: 0.4967 - val_accuracy: 0.8503\n",
            "Epoch 19/50\n",
            "205/205 [==============================] - 1s 5ms/step - loss: 0.3646 - accuracy: 0.9745 - val_loss: 0.4905 - val_accuracy: 0.8530\n",
            "Epoch 20/50\n",
            "205/205 [==============================] - 1s 5ms/step - loss: 0.3507 - accuracy: 0.9772 - val_loss: 0.4846 - val_accuracy: 0.8503\n",
            "Epoch 21/50\n",
            "205/205 [==============================] - 1s 5ms/step - loss: 0.3391 - accuracy: 0.9783 - val_loss: 0.4788 - val_accuracy: 0.8558\n",
            "Epoch 22/50\n",
            "205/205 [==============================] - 1s 5ms/step - loss: 0.3278 - accuracy: 0.9801 - val_loss: 0.4736 - val_accuracy: 0.8516\n",
            "Epoch 23/50\n",
            "205/205 [==============================] - 1s 5ms/step - loss: 0.3153 - accuracy: 0.9850 - val_loss: 0.4684 - val_accuracy: 0.8503\n",
            "Epoch 24/50\n",
            "205/205 [==============================] - 1s 5ms/step - loss: 0.3091 - accuracy: 0.9807 - val_loss: 0.4635 - val_accuracy: 0.8503\n",
            "Epoch 25/50\n",
            "205/205 [==============================] - 1s 5ms/step - loss: 0.2985 - accuracy: 0.9826 - val_loss: 0.4587 - val_accuracy: 0.8516\n",
            "Epoch 26/50\n",
            "205/205 [==============================] - 1s 5ms/step - loss: 0.2888 - accuracy: 0.9812 - val_loss: 0.4542 - val_accuracy: 0.8462\n",
            "Epoch 27/50\n",
            "205/205 [==============================] - 1s 5ms/step - loss: 0.2793 - accuracy: 0.9851 - val_loss: 0.4500 - val_accuracy: 0.8475\n",
            "Epoch 28/50\n",
            "205/205 [==============================] - 1s 5ms/step - loss: 0.2733 - accuracy: 0.9848 - val_loss: 0.4459 - val_accuracy: 0.8489\n",
            "Epoch 29/50\n",
            "205/205 [==============================] - 1s 5ms/step - loss: 0.2627 - accuracy: 0.9876 - val_loss: 0.4419 - val_accuracy: 0.8503\n",
            "Epoch 30/50\n",
            "205/205 [==============================] - 1s 5ms/step - loss: 0.2553 - accuracy: 0.9868 - val_loss: 0.4380 - val_accuracy: 0.8475\n",
            "Epoch 31/50\n",
            "205/205 [==============================] - 1s 5ms/step - loss: 0.2479 - accuracy: 0.9868 - val_loss: 0.4345 - val_accuracy: 0.8462\n",
            "Epoch 32/50\n",
            "205/205 [==============================] - 1s 5ms/step - loss: 0.2409 - accuracy: 0.9879 - val_loss: 0.4311 - val_accuracy: 0.8462\n",
            "Epoch 33/50\n",
            "205/205 [==============================] - 1s 5ms/step - loss: 0.2340 - accuracy: 0.9901 - val_loss: 0.4278 - val_accuracy: 0.8475\n",
            "Epoch 34/50\n",
            "205/205 [==============================] - 1s 5ms/step - loss: 0.2235 - accuracy: 0.9907 - val_loss: 0.4246 - val_accuracy: 0.8475\n",
            "Epoch 35/50\n",
            "205/205 [==============================] - 1s 5ms/step - loss: 0.2204 - accuracy: 0.9898 - val_loss: 0.4217 - val_accuracy: 0.8462\n",
            "Epoch 36/50\n",
            "205/205 [==============================] - 1s 5ms/step - loss: 0.2114 - accuracy: 0.9912 - val_loss: 0.4187 - val_accuracy: 0.8462\n",
            "Epoch 37/50\n",
            "205/205 [==============================] - 1s 5ms/step - loss: 0.2075 - accuracy: 0.9917 - val_loss: 0.4160 - val_accuracy: 0.8448\n",
            "Epoch 38/50\n",
            "205/205 [==============================] - 1s 5ms/step - loss: 0.2032 - accuracy: 0.9894 - val_loss: 0.4134 - val_accuracy: 0.8462\n",
            "Epoch 39/50\n",
            "205/205 [==============================] - 1s 5ms/step - loss: 0.1969 - accuracy: 0.9878 - val_loss: 0.4108 - val_accuracy: 0.8448\n",
            "Epoch 40/50\n",
            "205/205 [==============================] - 1s 5ms/step - loss: 0.1883 - accuracy: 0.9891 - val_loss: 0.4085 - val_accuracy: 0.8462\n",
            "Epoch 41/50\n",
            "205/205 [==============================] - 1s 5ms/step - loss: 0.1851 - accuracy: 0.9918 - val_loss: 0.4061 - val_accuracy: 0.8462\n",
            "Epoch 42/50\n",
            "205/205 [==============================] - 1s 5ms/step - loss: 0.1794 - accuracy: 0.9923 - val_loss: 0.4039 - val_accuracy: 0.8462\n",
            "Epoch 43/50\n",
            "205/205 [==============================] - 1s 5ms/step - loss: 0.1735 - accuracy: 0.9918 - val_loss: 0.4018 - val_accuracy: 0.8434\n",
            "Epoch 44/50\n",
            "205/205 [==============================] - 1s 5ms/step - loss: 0.1709 - accuracy: 0.9897 - val_loss: 0.3998 - val_accuracy: 0.8434\n",
            "Epoch 45/50\n",
            "205/205 [==============================] - 1s 5ms/step - loss: 0.1632 - accuracy: 0.9926 - val_loss: 0.3979 - val_accuracy: 0.8420\n",
            "Epoch 46/50\n",
            "205/205 [==============================] - 1s 5ms/step - loss: 0.1591 - accuracy: 0.9929 - val_loss: 0.3960 - val_accuracy: 0.8420\n",
            "Epoch 47/50\n",
            "205/205 [==============================] - 1s 5ms/step - loss: 0.1547 - accuracy: 0.9932 - val_loss: 0.3943 - val_accuracy: 0.8393\n",
            "Epoch 48/50\n",
            "205/205 [==============================] - 1s 5ms/step - loss: 0.1516 - accuracy: 0.9924 - val_loss: 0.3927 - val_accuracy: 0.8365\n",
            "Epoch 49/50\n",
            "205/205 [==============================] - 1s 5ms/step - loss: 0.1450 - accuracy: 0.9937 - val_loss: 0.3911 - val_accuracy: 0.8379\n",
            "Epoch 50/50\n",
            "205/205 [==============================] - 1s 5ms/step - loss: 0.1424 - accuracy: 0.9960 - val_loss: 0.3896 - val_accuracy: 0.8365\n"
          ],
          "name": "stdout"
        }
      ]
    },
    {
      "cell_type": "code",
      "metadata": {
        "colab": {
          "base_uri": "https://localhost:8080/",
          "height": 573
        },
        "id": "ekyU-TvAIQpE",
        "outputId": "225afefd-b204-4a96-ffe8-621928206801"
      },
      "source": [
        "plt.plot(history.history['accuracy'])\n",
        "plt.plot(history.history['val_accuracy'])\n",
        "plt.title('model accuracy')\n",
        "plt.ylabel('akurasi')\n",
        "plt.xlabel('epoch')\n",
        "plt.legend(['latih', 'validasi'], loc='upper left')\n",
        "plt.show()\n",
        "\n",
        "plt.plot(history.history['loss'])\n",
        "plt.plot(history.history['val_loss'])\n",
        "plt.title('model loss')\n",
        "plt.ylabel('loss')\n",
        "plt.xlabel('epoch')\n",
        "plt.legend(['latih', 'validasi'], loc='upper right')\n",
        "plt.show()"
      ],
      "execution_count": 11,
      "outputs": [
        {
          "output_type": "display_data",
          "data": {
            "image/png": "[encoded data removed]",
            "text/plain": [
              "<Figure size 432x288 with 1 Axes>"
            ]
          },
          "metadata": {
            "tags": [],
            "needs_background": "light"
          }
        },
        {
          "output_type": "display_data",
          "data": {
            "image/png": "[encoded data removed]",
            "text/plain": [
              "<Figure size 432x288 with 1 Axes>"
            ]
          },
          "metadata": {
            "tags": [],
            "needs_background": "light"
          }
        }
      ]
    },
    {
      "cell_type": "code",
      "metadata": {
        "id": "1iOf0iLe4j1J"
      },
      "source": [
        "model.save('verify_model.h5')"
      ],
      "execution_count": 12,
      "outputs": []
    },
    {
      "cell_type": "markdown",
      "metadata": {
        "id": "_7UGtHav2Ifz"
      },
      "source": [
        "# Saved to TFLite"
      ]
    },
    {
      "cell_type": "code",
      "metadata": {
        "colab": {
          "base_uri": "https://localhost:8080/"
        },
        "id": "stS02sfQ2Km-",
        "outputId": "7a7981ff-3461-4413-c643-2e448cb6e3cc"
      },
      "source": [
        "export_dir = '/content/'\n",
        "\n",
        "tf.saved_model.save(model, export_dir)"
      ],
      "execution_count": 13,
      "outputs": [
        {
          "output_type": "stream",
          "text": [
            "INFO:tensorflow:Assets written to: /content/assets\n"
          ],
          "name": "stdout"
        }
      ]
    },
    {
      "cell_type": "code",
      "metadata": {
        "id": "HiLWD1ju2dBN"
      },
      "source": [
        "mode = \"Speed\" \n",
        "\n",
        "if mode == 'Storage':\n",
        "    optimization = tf.lite.Optimize.OPTIMIZE_FOR_SIZE\n",
        "elif mode == 'Speed':\n",
        "    optimization = tf.lite.Optimize.OPTIMIZE_FOR_LATENCY\n",
        "else:\n",
        "    optimization = tf.lite.Optimize.DEFAULT"
      ],
      "execution_count": 14,
      "outputs": []
    },
    {
      "cell_type": "code",
      "metadata": {
        "id": "AehbR_332ksv"
      },
      "source": [
        "converter = tf.lite.TFLiteConverter.from_saved_model(export_dir)\n",
        "\n",
        "converter.optimizations = [optimization]\n",
        "\n",
        "tflite_model = converter.convert()"
      ],
      "execution_count": 15,
      "outputs": []
    },
    {
      "cell_type": "code",
      "metadata": {
        "colab": {
          "base_uri": "https://localhost:8080/"
        },
        "id": "EK4Auoju2psO",
        "outputId": "25bc368e-162c-4783-a8fb-4154d69de59f"
      },
      "source": [
        "tflite_model_file = pathlib.Path('./verify_model.tflite')\n",
        "tflite_model_file.write_bytes(tflite_model)"
      ],
      "execution_count": 18,
      "outputs": [
        {
          "output_type": "execute_result",
          "data": {
            "text/plain": [
              "42688"
            ]
          },
          "metadata": {
            "tags": []
          },
          "execution_count": 18
        }
      ]
    },
    {
      "cell_type": "code",
      "metadata": {
        "id": "KOfK16l-3cKA"
      },
      "source": [
        ""
      ],
      "execution_count": null,
      "outputs": []
    }
  ]
}