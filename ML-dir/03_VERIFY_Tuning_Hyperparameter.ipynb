{
  "nbformat": 4,
  "nbformat_minor": 0,
  "metadata": {
    "colab": {
      "name": "03-VERIFY-Tuning_Hyperparameter",
      "provenance": [],
      "toc_visible": true,
      "authorship_tag": "ABX9TyMDxDypJtlmZvwk3b+4Idgv",
      "include_colab_link": true
    },
    "kernelspec": {
      "name": "python3",
      "display_name": "Python 3"
    },
    "language_info": {
      "name": "python"
    },
    "accelerator": "GPU"
  },
  "cells": [
    {
      "cell_type": "markdown",
      "metadata": {
        "id": "view-in-github",
        "colab_type": "text"
      },
      "source": [
        "<a href=\"https://colab.research.google.com/github/B21-CAP0133/verify-android-app/blob/ML/ML-dir/03_VERIFY_Tuning_Hyperparameter.ipynb\" target=\"_parent\"><img src=\"https://colab.research.google.com/assets/colab-badge.svg\" alt=\"Open In Colab\"/></a>"
      ]
    },
    {
      "cell_type": "markdown",
      "metadata": {
        "id": "h98GxdWhkP2x"
      },
      "source": [
        "# TF IDF"
      ]
    },
    {
      "cell_type": "code",
      "metadata": {
        "id": "5XHZtt_3kOZI"
      },
      "source": [
        "import pandas as pd\n",
        "import numpy as np\n",
        "from sklearn.feature_extraction.text import TfidfVectorizer\n",
        "from sklearn.linear_model import LogisticRegression\n",
        "from sklearn.model_selection import GridSearchCV, train_test_split\n",
        "from sklearn.pipeline import Pipeline"
      ],
      "execution_count": null,
      "outputs": []
    },
    {
      "cell_type": "code",
      "metadata": {
        "colab": {
          "base_uri": "https://localhost:8080/",
          "height": 206
        },
        "id": "na-XHOq2kvdv",
        "outputId": "7860b78b-2b1f-4a61-8881-a35000c9eb2c"
      },
      "source": [
        "df = pd.read_csv('verify_dataset_clean.csv')\n",
        "df.sample(5)"
      ],
      "execution_count": null,
      "outputs": [
        {
          "output_type": "execute_result",
          "data": {
            "text/html": [
              "<div>\n",
              "<style scoped>\n",
              "    .dataframe tbody tr th:only-of-type {\n",
              "        vertical-align: middle;\n",
              "    }\n",
              "\n",
              "    .dataframe tbody tr th {\n",
              "        vertical-align: top;\n",
              "    }\n",
              "\n",
              "    .dataframe thead th {\n",
              "        text-align: right;\n",
              "    }\n",
              "</style>\n",
              "<table border=\"1\" class=\"dataframe\">\n",
              "  <thead>\n",
              "    <tr style=\"text-align: right;\">\n",
              "      <th></th>\n",
              "      <th>Judul</th>\n",
              "      <th>Label</th>\n",
              "    </tr>\n",
              "  </thead>\n",
              "  <tbody>\n",
              "    <tr>\n",
              "      <th>1530</th>\n",
              "      <td>pt dirgantara indonesia tak jual pihak asing</td>\n",
              "      <td>0</td>\n",
              "    </tr>\n",
              "    <tr>\n",
              "      <th>761</th>\n",
              "      <td>banserpdip damai</td>\n",
              "      <td>0</td>\n",
              "    </tr>\n",
              "    <tr>\n",
              "      <th>2230</th>\n",
              "      <td>modus habis ustadz suntik covid19 mati</td>\n",
              "      <td>1</td>\n",
              "    </tr>\n",
              "    <tr>\n",
              "      <th>209</th>\n",
              "      <td>foto pdtdrirniko njotorahardjo dukung paslon p...</td>\n",
              "      <td>1</td>\n",
              "    </tr>\n",
              "    <tr>\n",
              "      <th>687</th>\n",
              "      <td>kpk bantah terima tiket gratis asi games erick...</td>\n",
              "      <td>0</td>\n",
              "    </tr>\n",
              "  </tbody>\n",
              "</table>\n",
              "</div>"
            ],
            "text/plain": [
              "                                                  Judul  Label\n",
              "1530       pt dirgantara indonesia tak jual pihak asing      0\n",
              "761                                    banserpdip damai      0\n",
              "2230             modus habis ustadz suntik covid19 mati      1\n",
              "209   foto pdtdrirniko njotorahardjo dukung paslon p...      1\n",
              "687   kpk bantah terima tiket gratis asi games erick...      0"
            ]
          },
          "metadata": {
            "tags": []
          },
          "execution_count": 2
        }
      ]
    },
    {
      "cell_type": "code",
      "metadata": {
        "id": "t6TXTPo6yW0b"
      },
      "source": [
        "x = df['Judul']\n",
        "y = df['Label']"
      ],
      "execution_count": null,
      "outputs": []
    },
    {
      "cell_type": "code",
      "metadata": {
        "id": "L6zCmS6tpQo2"
      },
      "source": [
        "tvec_pipe = Pipeline([\n",
        "                  ('tfidf', TfidfVectorizer()),\n",
        "                  ('logreg', LogisticRegression())\n",
        "])\n",
        "tvec_params = {\n",
        "    'tfidf__ngram_range' : ((1,1), (1,2), (2,2)),\n",
        "    'tfidf__max_df' : (0.5, 0.75, 1.0),\n",
        "    'tfidf__max_features' : (None, 5000, 10000, 20000),\n",
        "    'tfidf__norm' : ('l1', 'l2'),\n",
        "    'tfidf__use_idf' : (True, False)\n",
        "}\n",
        "\n",
        "tvec_gs = GridSearchCV(tvec_pipe, tvec_params, cv = 5, verbose = 1, n_jobs = -1)"
      ],
      "execution_count": null,
      "outputs": []
    },
    {
      "cell_type": "code",
      "metadata": {
        "colab": {
          "base_uri": "https://localhost:8080/"
        },
        "id": "fBsCbMEPyTk6",
        "outputId": "8dcc352c-e0b7-4b96-ecbd-af126ed65491"
      },
      "source": [
        "tvec_gs.fit(x, y)\n",
        "\n",
        "print(tvec_gs.best_params_)"
      ],
      "execution_count": null,
      "outputs": [
        {
          "output_type": "stream",
          "text": [
            "Fitting 5 folds for each of 144 candidates, totalling 720 fits\n"
          ],
          "name": "stdout"
        },
        {
          "output_type": "stream",
          "text": [
            "[Parallel(n_jobs=-1)]: Using backend LokyBackend with 2 concurrent workers.\n",
            "[Parallel(n_jobs=-1)]: Done  46 tasks      | elapsed:    4.0s\n",
            "[Parallel(n_jobs=-1)]: Done 326 tasks      | elapsed:   19.8s\n"
          ],
          "name": "stderr"
        },
        {
          "output_type": "stream",
          "text": [
            "{'tfidf__max_df': 0.5, 'tfidf__max_features': None, 'tfidf__ngram_range': (1, 2), 'tfidf__norm': 'l2', 'tfidf__use_idf': True}\n"
          ],
          "name": "stdout"
        },
        {
          "output_type": "stream",
          "text": [
            "[Parallel(n_jobs=-1)]: Done 720 out of 720 | elapsed:   42.8s finished\n"
          ],
          "name": "stderr"
        }
      ]
    },
    {
      "cell_type": "code",
      "metadata": {
        "colab": {
          "base_uri": "https://localhost:8080/"
        },
        "id": "Wiwp7djZfh5a",
        "outputId": "ab2cabc1-1922-4363-c8d5-88fc550c1fda"
      },
      "source": [
        "tvec_gs.best_score_"
      ],
      "execution_count": null,
      "outputs": [
        {
          "output_type": "execute_result",
          "data": {
            "text/plain": [
              "0.7704677032319069"
            ]
          },
          "metadata": {
            "tags": []
          },
          "execution_count": 14
        }
      ]
    },
    {
      "cell_type": "markdown",
      "metadata": {
        "id": "v1ZDw55L5Zb8"
      },
      "source": [
        "## Mengaplikasikan hyperparameter TF-IDF terbaik"
      ]
    },
    {
      "cell_type": "code",
      "metadata": {
        "id": "4URfjAEk7Pmu"
      },
      "source": [
        "tfidf = TfidfVectorizer(\n",
        "    ngram_range = (1,2),\n",
        "    max_df = 0.5,\n",
        "    use_idf = True,\n",
        "    max_features = None,\n",
        "    norm = 'l2'\n",
        "    )"
      ],
      "execution_count": null,
      "outputs": []
    },
    {
      "cell_type": "code",
      "metadata": {
        "id": "C7kgLnCw7upN"
      },
      "source": [
        "x_train, x_test, y_train, y_test = train_test_split(x, y, test_size=0.1)"
      ],
      "execution_count": null,
      "outputs": []
    },
    {
      "cell_type": "code",
      "metadata": {
        "id": "l8FOaFPKvX_s"
      },
      "source": [
        "x_train_tfidf = tfidf.fit_transform(x_train)\n",
        "x_test_tfidf = tfidf.transform(x_test)"
      ],
      "execution_count": null,
      "outputs": []
    },
    {
      "cell_type": "code",
      "metadata": {
        "colab": {
          "base_uri": "https://localhost:8080/"
        },
        "id": "J9u8RtTO9zW9",
        "outputId": "31e4b023-3929-40ec-c407-14537d616606"
      },
      "source": [
        "print(len(x_test))\n",
        "x_test_tfidf.shape"
      ],
      "execution_count": null,
      "outputs": [
        {
          "output_type": "stream",
          "text": [
            "237\n"
          ],
          "name": "stdout"
        },
        {
          "output_type": "execute_result",
          "data": {
            "text/plain": [
              "(237, 15553)"
            ]
          },
          "metadata": {
            "tags": []
          },
          "execution_count": 11
        }
      ]
    },
    {
      "cell_type": "markdown",
      "metadata": {
        "id": "XJMjz_n-uvxo"
      },
      "source": [
        "# Logistic Regression"
      ]
    },
    {
      "cell_type": "code",
      "metadata": {
        "id": "-3nRY1Zs4Yba"
      },
      "source": [
        "model = LogisticRegression()\n",
        "model_params = {\n",
        "    'penalty' : ['l1', 'l2'],\n",
        "    'C' : np.logspace(-1,4,10),\n",
        "    'solver' : ['liblinear', 'saga', 'sag', 'lbfgs'],\n",
        "    'max_iter' : [5000, 10000]\n",
        "}\n",
        "\n",
        "logreg_gs = GridSearchCV(model, model_params, cv = 5, verbose = 1, n_jobs = -1)"
      ],
      "execution_count": null,
      "outputs": []
    },
    {
      "cell_type": "code",
      "metadata": {
        "colab": {
          "base_uri": "https://localhost:8080/"
        },
        "id": "uPPeGvsR7JrS",
        "outputId": "6411b325-8b5e-4ccc-9490-7497dbe790c3"
      },
      "source": [
        "logreg_gs.fit(x_train_tfidf, y_train)\n",
        "\n",
        "print(logreg_gs.best_params_)"
      ],
      "execution_count": null,
      "outputs": [
        {
          "output_type": "stream",
          "text": [
            "Fitting 5 folds for each of 160 candidates, totalling 800 fits\n"
          ],
          "name": "stdout"
        },
        {
          "output_type": "stream",
          "text": [
            "[Parallel(n_jobs=-1)]: Using backend LokyBackend with 2 concurrent workers.\n",
            "[Parallel(n_jobs=-1)]: Done 265 tasks      | elapsed:   19.1s\n",
            "[Parallel(n_jobs=-1)]: Done 436 tasks      | elapsed: 111.0min\n",
            "[Parallel(n_jobs=-1)]: Done 686 tasks      | elapsed: 180.6min\n",
            "[Parallel(n_jobs=-1)]: Done 800 out of 800 | elapsed: 204.1min finished\n"
          ],
          "name": "stderr"
        },
        {
          "output_type": "stream",
          "text": [
            "{'C': 774.2636826811278, 'max_iter': 5000, 'penalty': 'l1', 'solver': 'saga'}\n"
          ],
          "name": "stdout"
        }
      ]
    },
    {
      "cell_type": "code",
      "metadata": {
        "colab": {
          "base_uri": "https://localhost:8080/"
        },
        "id": "EyXjysNBfqt5",
        "outputId": "3ed62090-a473-4c38-cd59-0ddb3e79aff4"
      },
      "source": [
        "logreg_gs.best_score_"
      ],
      "execution_count": null,
      "outputs": [
        {
          "output_type": "execute_result",
          "data": {
            "text/plain": [
              "0.7792267329466998"
            ]
          },
          "metadata": {
            "tags": []
          },
          "execution_count": 15
        }
      ]
    }
  ]
}