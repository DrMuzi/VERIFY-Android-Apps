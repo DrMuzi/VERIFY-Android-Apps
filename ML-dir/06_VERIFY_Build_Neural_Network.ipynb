{
  "nbformat": 4,
  "nbformat_minor": 0,
  "metadata": {
    "colab": {
      "name": "06-VERIFY-Build_Neural_Network",
      "provenance": [],
      "authorship_tag": "ABX9TyPBY7kPoET2d2y/0Km9RxVw",
      "include_colab_link": true
    },
    "kernelspec": {
      "name": "python3",
      "display_name": "Python 3"
    },
    "language_info": {
      "name": "python"
    },
    "accelerator": "GPU"
  },
  "cells": [
    {
      "cell_type": "markdown",
      "metadata": {
        "id": "view-in-github",
        "colab_type": "text"
      },
      "source": [
        "<a href=\"https://colab.research.google.com/github/B21-CAP0133/verify-android-app/blob/master/ML-dir/06_VERIFY_Build_Neural_Network.ipynb\" target=\"_parent\"><img src=\"https://colab.research.google.com/assets/colab-badge.svg\" alt=\"Open In Colab\"/></a>"
      ]
    },
    {
      "cell_type": "code",
      "metadata": {
        "id": "Awg35Wt5ntey"
      },
      "source": [
        "import pandas as pd\n",
        "import numpy as np\n",
        "import tensorflow as tf\n",
        "from sklearn.model_selection import train_test_split\n",
        "from tensorflow.keras.preprocessing.text import Tokenizer\n",
        "from tensorflow.keras.preprocessing.sequence import pad_sequences\n",
        "#import tensorflow_datasets as tfds\n",
        "import matplotlib.pyplot as plt\n",
        "#from sklearn.feature_extraction.text import TfidfVectorizer\n",
        "#from keras.models import Sequential\n",
        "#from keras.layers.core import Dense, Dropout, Activation"
      ],
      "execution_count": 39,
      "outputs": []
    },
    {
      "cell_type": "code",
      "metadata": {
        "colab": {
          "base_uri": "https://localhost:8080/",
          "height": 206
        },
        "id": "5EP4jgJMo-5-",
        "outputId": "0900e55b-ea7b-41ff-b53c-2a3e7f38310d"
      },
      "source": [
        "df = pd.read_csv('verify_dataset_clean.csv')\n",
        "df.sample(5)"
      ],
      "execution_count": 2,
      "outputs": [
        {
          "output_type": "execute_result",
          "data": {
            "text/html": [
              "<div>\n",
              "<style scoped>\n",
              "    .dataframe tbody tr th:only-of-type {\n",
              "        vertical-align: middle;\n",
              "    }\n",
              "\n",
              "    .dataframe tbody tr th {\n",
              "        vertical-align: top;\n",
              "    }\n",
              "\n",
              "    .dataframe thead th {\n",
              "        text-align: right;\n",
              "    }\n",
              "</style>\n",
              "<table border=\"1\" class=\"dataframe\">\n",
              "  <thead>\n",
              "    <tr style=\"text-align: right;\">\n",
              "      <th></th>\n",
              "      <th>Judul</th>\n",
              "      <th>Label</th>\n",
              "    </tr>\n",
              "  </thead>\n",
              "  <tbody>\n",
              "    <tr>\n",
              "      <th>6575</th>\n",
              "      <td>sandiaga soal psbb transisi ikut anjur perintah</td>\n",
              "      <td>0</td>\n",
              "    </tr>\n",
              "    <tr>\n",
              "      <th>6735</th>\n",
              "      <td>pos indonesia jamin uang jika kirim paket lambat</td>\n",
              "      <td>0</td>\n",
              "    </tr>\n",
              "    <tr>\n",
              "      <th>2545</th>\n",
              "      <td>kad lh dki jakarta minta jumlah uang perlu ten...</td>\n",
              "      <td>0</td>\n",
              "    </tr>\n",
              "    <tr>\n",
              "      <th>4536</th>\n",
              "      <td>bicara aa gym panglima tni jendral gatot nurma...</td>\n",
              "      <td>1</td>\n",
              "    </tr>\n",
              "    <tr>\n",
              "      <th>5605</th>\n",
              "      <td>kurir 20 kg sabu 18 ribu ekstasi sumsel vonis ...</td>\n",
              "      <td>0</td>\n",
              "    </tr>\n",
              "  </tbody>\n",
              "</table>\n",
              "</div>"
            ],
            "text/plain": [
              "                                                  Judul  Label\n",
              "6575    sandiaga soal psbb transisi ikut anjur perintah      0\n",
              "6735   pos indonesia jamin uang jika kirim paket lambat      0\n",
              "2545  kad lh dki jakarta minta jumlah uang perlu ten...      0\n",
              "4536  bicara aa gym panglima tni jendral gatot nurma...      1\n",
              "5605  kurir 20 kg sabu 18 ribu ekstasi sumsel vonis ...      0"
            ]
          },
          "metadata": {
            "tags": []
          },
          "execution_count": 2
        }
      ]
    },
    {
      "cell_type": "code",
      "metadata": {
        "id": "810Hix9jplw9"
      },
      "source": [
        "x_train_text, x_test_text, y_train, y_test = train_test_split(df['Judul'], df['Label'], test_size=0.1)"
      ],
      "execution_count": 3,
      "outputs": []
    },
    {
      "cell_type": "code",
      "metadata": {
        "id": "ob8xS6B4uT_Y"
      },
      "source": [
        "#transformer = TfidfVectorizer(\n",
        "#    ngram_range = (1, 2), \n",
        "#    max_features = None,\n",
        "#    max_df = 0.5,\n",
        "#    use_idf = True,\n",
        "#    norm = 'l2'\n",
        "#    )\n",
        "\n",
        "#x_train = transformer.fit_transform(x_train_text).todense()\n",
        "#x_test = transformer.transform(x_test_text).todense()"
      ],
      "execution_count": 25,
      "outputs": []
    },
    {
      "cell_type": "code",
      "metadata": {
        "id": "eCrsqyRF4_FL"
      },
      "source": [
        "#vocab_size = 10000\n",
        "#encoder = tfds.deprecated.text.SubwordTextEncoder.build_from_corpus(x_train_text, vocab_size)"
      ],
      "execution_count": 14,
      "outputs": []
    },
    {
      "cell_type": "code",
      "metadata": {
        "id": "SxY0o53S5jD_"
      },
      "source": [
        "#def enc(dataframe):\n",
        "#    tokenized = []\n",
        "#    for sentence in dataframe:\n",
        "#        tokenized.append(encoder.encode(sentence))\n",
        "#    out = tf.keras.preprocessing.sequence.pad_sequences(tokenized, padding = \"post\")\n",
        "#    return out\n",
        "#x_train = enc(x_train_text)\n",
        "#x_test = enc(x_test_text)"
      ],
      "execution_count": 34,
      "outputs": []
    },
    {
      "cell_type": "code",
      "metadata": {
        "id": "7nz5D1WTKTDB"
      },
      "source": [
        "tokenizer = Tokenizer(num_words=5000, oov_token='<OOV>')\n",
        "tokenizer.fit_on_texts(x_train_text)\n",
        "\n",
        "x_train = tokenizer.texts_to_sequences(x_train_text)\n",
        "x_test = tokenizer.texts_to_sequences(x_test_text)\n",
        " \n",
        "x_train = pad_sequences(x_train, padding='post') \n",
        "x_test = pad_sequences(x_test, padding='post')"
      ],
      "execution_count": 52,
      "outputs": []
    },
    {
      "cell_type": "code",
      "metadata": {
        "id": "0Diwr70I5xzK"
      },
      "source": [
        "clf = tf.keras.Sequential([\n",
        "        tf.keras.layers.Embedding(input_dim=5000, output_dim=16),\n",
        "        tf.keras.layers.LSTM(64),\n",
        "        tf.keras.layers.Dense(64, activation='relu'),\n",
        "        tf.keras.layers.Dropout(0.2),\n",
        "        tf.keras.layers.Dense(128, activation='relu'),\n",
        "        tf.keras.layers.Dropout(0.5),\n",
        "        tf.keras.layers.Dense(64, activation='relu'),\n",
        "        tf.keras.layers.Dropout(0.2),\n",
        "        tf.keras.layers.Dense(1)\n",
        "    ])\n",
        "\n",
        "clf.compile(\n",
        "    loss='binary_crossentropy',\n",
        "    optimizer='Adam',\n",
        "    metrics=['acc']\n",
        ")"
      ],
      "execution_count": 53,
      "outputs": []
    },
    {
      "cell_type": "code",
      "metadata": {
        "colab": {
          "base_uri": "https://localhost:8080/"
        },
        "id": "xIdgk6pC523s",
        "outputId": "1a2da370-464f-4abe-a160-b7ce8d3e575f"
      },
      "source": [
        "history = clf.fit(x_train,y_train,\n",
        "                    validation_data=(x_test, y_test),\n",
        "                    epochs = 10)"
      ],
      "execution_count": 54,
      "outputs": [
        {
          "output_type": "stream",
          "text": [
            "Epoch 1/10\n",
            "205/205 [==============================] - 4s 8ms/step - loss: 1.0896 - acc: 0.4691 - val_loss: 0.6559 - val_acc: 0.6305\n",
            "Epoch 2/10\n",
            "205/205 [==============================] - 1s 6ms/step - loss: 0.7278 - acc: 0.6228 - val_loss: 0.6189 - val_acc: 0.6690\n",
            "Epoch 3/10\n",
            "205/205 [==============================] - 1s 6ms/step - loss: 0.7829 - acc: 0.8019 - val_loss: 0.8045 - val_acc: 0.5742\n",
            "Epoch 4/10\n",
            "205/205 [==============================] - 1s 6ms/step - loss: 0.4934 - acc: 0.8761 - val_loss: 0.8076 - val_acc: 0.7280\n",
            "Epoch 5/10\n",
            "205/205 [==============================] - 1s 6ms/step - loss: 0.5048 - acc: 0.9217 - val_loss: 0.9381 - val_acc: 0.7170\n",
            "Epoch 6/10\n",
            "205/205 [==============================] - 1s 6ms/step - loss: 0.5238 - acc: 0.9360 - val_loss: 1.6890 - val_acc: 0.7198\n",
            "Epoch 7/10\n",
            "205/205 [==============================] - 1s 6ms/step - loss: 0.4382 - acc: 0.9180 - val_loss: 1.9708 - val_acc: 0.7390\n",
            "Epoch 8/10\n",
            "205/205 [==============================] - 1s 6ms/step - loss: 0.4186 - acc: 0.9553 - val_loss: 2.1189 - val_acc: 0.6772\n",
            "Epoch 9/10\n",
            "205/205 [==============================] - 1s 6ms/step - loss: 0.3667 - acc: 0.9654 - val_loss: 2.9498 - val_acc: 0.6676\n",
            "Epoch 10/10\n",
            "205/205 [==============================] - 1s 6ms/step - loss: 0.3449 - acc: 0.9725 - val_loss: 2.5685 - val_acc: 0.7418\n"
          ],
          "name": "stdout"
        }
      ]
    },
    {
      "cell_type": "code",
      "metadata": {
        "colab": {
          "base_uri": "https://localhost:8080/",
          "height": 573
        },
        "id": "5Gh1Eov9CAde",
        "outputId": "38471794-4db1-4b95-add4-910b3bf9bafd"
      },
      "source": [
        "# summarize history for accuracy\n",
        "plt.plot(history.history['acc'])\n",
        "plt.plot(history.history['val_acc'])\n",
        "plt.title('model accuracy')\n",
        "plt.ylabel('accuracy')\n",
        "plt.xlabel('epoch')\n",
        "plt.legend(['train', 'test'], loc='upper left')\n",
        "plt.show()\n",
        "# summarize history for loss\n",
        "plt.plot(history.history['loss'])\n",
        "plt.plot(history.history['val_loss'])\n",
        "plt.title('model loss')\n",
        "plt.ylabel('loss')\n",
        "plt.xlabel('epoch')\n",
        "plt.legend(['train', 'test'], loc='upper left')\n",
        "plt.show()"
      ],
      "execution_count": 55,
      "outputs": [
        {
          "output_type": "display_data",
          "data": {
            "image/png": "[encoded data removed]",
            "text/plain": [
              "<Figure size 432x288 with 1 Axes>"
            ]
          },
          "metadata": {
            "tags": [],
            "needs_background": "light"
          }
        },
        {
          "output_type": "display_data",
          "data": {
            "image/png": "[encoded data removed]",
            "text/plain": [
              "<Figure size 432x288 with 1 Axes>"
            ]
          },
          "metadata": {
            "tags": [],
            "needs_background": "light"
          }
        }
      ]
    },
    {
      "cell_type": "code",
      "metadata": {
        "id": "yUZbfCD5CoKe"
      },
      "source": [
        ""
      ],
      "execution_count": null,
      "outputs": []
    }
  ]
}