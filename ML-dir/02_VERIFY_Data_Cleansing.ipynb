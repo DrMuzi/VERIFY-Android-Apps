{
  "nbformat": 4,
  "nbformat_minor": 0,
  "metadata": {
    "colab": {
      "name": "02-VERIFY-Data_Cleansing",
      "provenance": [],
      "toc_visible": true,
      "authorship_tag": "ABX9TyOvLkDmogbH+GQ+BpKSIh0X",
      "include_colab_link": true
    },
    "kernelspec": {
      "name": "python3",
      "display_name": "Python 3"
    },
    "language_info": {
      "name": "python"
    }
  },
  "cells": [
    {
      "cell_type": "markdown",
      "metadata": {
        "id": "view-in-github",
        "colab_type": "text"
      },
      "source": [
        "<a href=\"https://colab.research.google.com/github/B21-CAP0133/verify-android-app/blob/master/ML-dir/02_VERIFY_Data_Cleansing.ipynb\" target=\"_parent\"><img src=\"https://colab.research.google.com/assets/colab-badge.svg\" alt=\"Open In Colab\"/></a>"
      ]
    },
    {
      "cell_type": "markdown",
      "metadata": {
        "id": "7fFKVGH2qPyp"
      },
      "source": [
        "# Data Cleansing"
      ]
    },
    {
      "cell_type": "markdown",
      "metadata": {
        "id": "V0rteMc8qUpt"
      },
      "source": [
        "Melakukan data cleansing terhadap verify_dataset yang terdiri atas:\n",
        "\n",
        "1. Case folding.\n",
        "2. Menghilangkan kata-kata di dalam kurung.\n",
        "3. Menghilangkan _punctuation_.\n",
        "4. Menghilangkan stopwords.\n",
        "5. Melakukan _stemming_."
      ]
    },
    {
      "cell_type": "markdown",
      "metadata": {
        "id": "e1LLY1f2rgDd"
      },
      "source": [
        "Melakukan import library yang dibutuhkan."
      ]
    },
    {
      "cell_type": "code",
      "metadata": {
        "id": "tuobQJ5vwD_T",
        "colab": {
          "base_uri": "https://localhost:8080/"
        },
        "outputId": "f355523b-dc25-4706-e410-e803ff99a0ca"
      },
      "source": [
        "!pip install Sastrawi"
      ],
      "execution_count": 1,
      "outputs": [
        {
          "output_type": "stream",
          "text": [
            "Collecting Sastrawi\n",
            "\u001b[?25l  Downloading https://files.pythonhosted.org/packages/6f/4b/bab676953da3103003730b8fcdfadbdd20f333d4add10af949dd5c51e6ed/Sastrawi-1.0.1-py2.py3-none-any.whl (209kB)\n",
            "\u001b[K     |████████████████████████████████| 215kB 3.9MB/s \n",
            "\u001b[?25hInstalling collected packages: Sastrawi\n",
            "Successfully installed Sastrawi-1.0.1\n"
          ],
          "name": "stdout"
        }
      ]
    },
    {
      "cell_type": "code",
      "metadata": {
        "id": "mpANC74jf6Sq"
      },
      "source": [
        "import pandas as pd\n",
        "import re\n",
        "import string\n",
        "from Sastrawi.StopWordRemover.StopWordRemoverFactory import StopWordRemoverFactory\n",
        "from Sastrawi.Stemmer.StemmerFactory import StemmerFactory"
      ],
      "execution_count": 2,
      "outputs": []
    },
    {
      "cell_type": "code",
      "metadata": {
        "colab": {
          "base_uri": "https://localhost:8080/",
          "height": 206
        },
        "id": "d9p8PtVHrlO1",
        "outputId": "9f99a145-8e30-4211-bd4d-ad6886c692ec"
      },
      "source": [
        "df = pd.read_csv('verify_dataset.csv')\n",
        "\n",
        "df.sample(5)"
      ],
      "execution_count": 3,
      "outputs": [
        {
          "output_type": "execute_result",
          "data": {
            "text/html": [
              "<div>\n",
              "<style scoped>\n",
              "    .dataframe tbody tr th:only-of-type {\n",
              "        vertical-align: middle;\n",
              "    }\n",
              "\n",
              "    .dataframe tbody tr th {\n",
              "        vertical-align: top;\n",
              "    }\n",
              "\n",
              "    .dataframe thead th {\n",
              "        text-align: right;\n",
              "    }\n",
              "</style>\n",
              "<table border=\"1\" class=\"dataframe\">\n",
              "  <thead>\n",
              "    <tr style=\"text-align: right;\">\n",
              "      <th></th>\n",
              "      <th>Judul</th>\n",
              "      <th>Label</th>\n",
              "    </tr>\n",
              "  </thead>\n",
              "  <tbody>\n",
              "    <tr>\n",
              "      <th>1654</th>\n",
              "      <td>SMS Bencana Akhir Tahun Yang Dikeluarkan BMKG</td>\n",
              "      <td>1</td>\n",
              "    </tr>\n",
              "    <tr>\n",
              "      <th>7128</th>\n",
              "      <td>FC Utrecht Diklaim Batal Rekrut Bagus Kahfi</td>\n",
              "      <td>0</td>\n",
              "    </tr>\n",
              "    <tr>\n",
              "      <th>1570</th>\n",
              "      <td>Jenazah Siyono utuh, berarti ybs Mati Syahid</td>\n",
              "      <td>1</td>\n",
              "    </tr>\n",
              "    <tr>\n",
              "      <th>5812</th>\n",
              "      <td>Anggota DPR Sebut Bali Harus Lockdown Cegah Vi...</td>\n",
              "      <td>0</td>\n",
              "    </tr>\n",
              "    <tr>\n",
              "      <th>1842</th>\n",
              "      <td>49 WN Tiongkok yang Masuk ke Sultra Ternyata O...</td>\n",
              "      <td>0</td>\n",
              "    </tr>\n",
              "  </tbody>\n",
              "</table>\n",
              "</div>"
            ],
            "text/plain": [
              "                                                  Judul  Label\n",
              "1654      SMS Bencana Akhir Tahun Yang Dikeluarkan BMKG      1\n",
              "7128        FC Utrecht Diklaim Batal Rekrut Bagus Kahfi      0\n",
              "1570       Jenazah Siyono utuh, berarti ybs Mati Syahid      1\n",
              "5812  Anggota DPR Sebut Bali Harus Lockdown Cegah Vi...      0\n",
              "1842  49 WN Tiongkok yang Masuk ke Sultra Ternyata O...      0"
            ]
          },
          "metadata": {
            "tags": []
          },
          "execution_count": 3
        }
      ]
    },
    {
      "cell_type": "markdown",
      "metadata": {
        "id": "0tEL6Jtmt9aZ"
      },
      "source": [
        "## Text Cleaning"
      ]
    },
    {
      "cell_type": "markdown",
      "metadata": {
        "id": "h5GGknXmuJ3A"
      },
      "source": [
        "Text cleaning terdiri atas data cleansing 1, 2, dan 3. Ketiga tahap tersebut dipilih berdasarkan asesmen yang dilakukan saat melakukan eksplorasi data."
      ]
    },
    {
      "cell_type": "markdown",
      "metadata": {
        "id": "2XvHI011uiTO"
      },
      "source": [
        "Membuat fungsi text_cleaning."
      ]
    },
    {
      "cell_type": "code",
      "metadata": {
        "id": "KaW9oOd3ukWy"
      },
      "source": [
        "def text_cleaning(judul):\n",
        "  judul = judul.lower()                                               # casefolding\n",
        "  judul = re.sub('\\(.*?\\) | \\[.*?\\]', '', judul)                      # kata di dalam kurung\n",
        "  judul = re.sub('[%s]' % re.escape(string.punctuation), '', judul)   # punctuation\n",
        "  judul = re.sub('[‘’“”…]', '', judul)                                # tanda kutip\n",
        "\n",
        "  return judul"
      ],
      "execution_count": 4,
      "outputs": []
    },
    {
      "cell_type": "markdown",
      "metadata": {
        "id": "EMYkYinluzCi"
      },
      "source": [
        "Mengaplikasikan fungsi text_cleaning ke dalam dataset."
      ]
    },
    {
      "cell_type": "code",
      "metadata": {
        "colab": {
          "base_uri": "https://localhost:8080/",
          "height": 206
        },
        "id": "tPNf8qhsu2_x",
        "outputId": "d927f656-d037-44fb-e8dc-fb6cd1dcf45d"
      },
      "source": [
        "df['Judul'] = df['Judul'].apply(text_cleaning)\n",
        "\n",
        "df.sample(5)"
      ],
      "execution_count": 5,
      "outputs": [
        {
          "output_type": "execute_result",
          "data": {
            "text/html": [
              "<div>\n",
              "<style scoped>\n",
              "    .dataframe tbody tr th:only-of-type {\n",
              "        vertical-align: middle;\n",
              "    }\n",
              "\n",
              "    .dataframe tbody tr th {\n",
              "        vertical-align: top;\n",
              "    }\n",
              "\n",
              "    .dataframe thead th {\n",
              "        text-align: right;\n",
              "    }\n",
              "</style>\n",
              "<table border=\"1\" class=\"dataframe\">\n",
              "  <thead>\n",
              "    <tr style=\"text-align: right;\">\n",
              "      <th></th>\n",
              "      <th>Judul</th>\n",
              "      <th>Label</th>\n",
              "    </tr>\n",
              "  </thead>\n",
              "  <tbody>\n",
              "    <tr>\n",
              "      <th>7195</th>\n",
              "      <td>hasil f1 gp abu dhabi verstappen juara seri te...</td>\n",
              "      <td>0</td>\n",
              "    </tr>\n",
              "    <tr>\n",
              "      <th>3135</th>\n",
              "      <td>demi palestina cristiano ronaldo sumbang rp 21...</td>\n",
              "      <td>1</td>\n",
              "    </tr>\n",
              "    <tr>\n",
              "      <th>2081</th>\n",
              "      <td>marak penculikan anak kecil dengan pelaku sadi...</td>\n",
              "      <td>1</td>\n",
              "    </tr>\n",
              "    <tr>\n",
              "      <th>2445</th>\n",
              "      <td>mark zuckerberg ancam tutup facebook di indone...</td>\n",
              "      <td>1</td>\n",
              "    </tr>\n",
              "    <tr>\n",
              "      <th>6955</th>\n",
              "      <td>video monster hunter dari gim menuju layar lebar</td>\n",
              "      <td>0</td>\n",
              "    </tr>\n",
              "  </tbody>\n",
              "</table>\n",
              "</div>"
            ],
            "text/plain": [
              "                                                  Judul  Label\n",
              "7195  hasil f1 gp abu dhabi verstappen juara seri te...      0\n",
              "3135  demi palestina cristiano ronaldo sumbang rp 21...      1\n",
              "2081  marak penculikan anak kecil dengan pelaku sadi...      1\n",
              "2445  mark zuckerberg ancam tutup facebook di indone...      1\n",
              "6955   video monster hunter dari gim menuju layar lebar      0"
            ]
          },
          "metadata": {
            "tags": []
          },
          "execution_count": 5
        }
      ]
    },
    {
      "cell_type": "markdown",
      "metadata": {
        "id": "sqYT4W8hvORl"
      },
      "source": [
        "## Stopwords"
      ]
    },
    {
      "cell_type": "markdown",
      "metadata": {
        "id": "c8YRS4IGvt2H"
      },
      "source": [
        "Tahap ini berarti menghilangkan kata-kata yang sering muncul dan tidak terlalu berpengaruh kepada makna kalimat. Tahap ini menggunakan library sastrawi."
      ]
    },
    {
      "cell_type": "markdown",
      "metadata": {
        "id": "e4NdsEywwSRd"
      },
      "source": [
        "Load stopword dari sastrawi."
      ]
    },
    {
      "cell_type": "code",
      "metadata": {
        "id": "GvcqV334wJ7X"
      },
      "source": [
        "factory = StopWordRemoverFactory()\n",
        "new_stopwords = ['yg', 'dgn', 'dlm', 'nya']\n",
        "stopwords = factory.get_stop_words() + new_stopwords\n",
        "stopwords = factory.create_stop_word_remover()\n",
        "\n",
        "#for stopword in stopwords:\n",
        "#  print(stopword)"
      ],
      "execution_count": 6,
      "outputs": []
    },
    {
      "cell_type": "markdown",
      "metadata": {
        "id": "cDjT3C03wWIL"
      },
      "source": [
        "Membuat fungsi stopwords_removal."
      ]
    },
    {
      "cell_type": "code",
      "metadata": {
        "id": "L58wnB0fwbYM"
      },
      "source": [
        "def stopwords_removal(judul):\n",
        "  judul = stopwords.remove(judul)\n",
        "\n",
        "  return judul"
      ],
      "execution_count": 7,
      "outputs": []
    },
    {
      "cell_type": "markdown",
      "metadata": {
        "id": "L2_ttdwTwfqN"
      },
      "source": [
        "Mengaplikasikan fungsi stopwords_removal kepada dataset."
      ]
    },
    {
      "cell_type": "code",
      "metadata": {
        "colab": {
          "base_uri": "https://localhost:8080/",
          "height": 206
        },
        "id": "EME7FONkwkRU",
        "outputId": "61f6e4d9-fcbe-44ec-f356-1be6432ebc80"
      },
      "source": [
        "df['Judul'] = df['Judul'].apply(stopwords_removal)\n",
        "\n",
        "df.sample(5)"
      ],
      "execution_count": 8,
      "outputs": [
        {
          "output_type": "execute_result",
          "data": {
            "text/html": [
              "<div>\n",
              "<style scoped>\n",
              "    .dataframe tbody tr th:only-of-type {\n",
              "        vertical-align: middle;\n",
              "    }\n",
              "\n",
              "    .dataframe tbody tr th {\n",
              "        vertical-align: top;\n",
              "    }\n",
              "\n",
              "    .dataframe thead th {\n",
              "        text-align: right;\n",
              "    }\n",
              "</style>\n",
              "<table border=\"1\" class=\"dataframe\">\n",
              "  <thead>\n",
              "    <tr style=\"text-align: right;\">\n",
              "      <th></th>\n",
              "      <th>Judul</th>\n",
              "      <th>Label</th>\n",
              "    </tr>\n",
              "  </thead>\n",
              "  <tbody>\n",
              "    <tr>\n",
              "      <th>2386</th>\n",
              "      <td>buntut penerapan psbb palembang batas operasio...</td>\n",
              "      <td>1</td>\n",
              "    </tr>\n",
              "    <tr>\n",
              "      <th>4374</th>\n",
              "      <td>rumah terbakar kog malah disuruh jarah</td>\n",
              "      <td>1</td>\n",
              "    </tr>\n",
              "    <tr>\n",
              "      <th>4684</th>\n",
              "      <td>krn pemerintahnya ngeyel  rakyatnya bandel akh...</td>\n",
              "      <td>1</td>\n",
              "    </tr>\n",
              "    <tr>\n",
              "      <th>5267</th>\n",
              "      <td>hoax bisa membunuh  mematikan</td>\n",
              "      <td>1</td>\n",
              "    </tr>\n",
              "    <tr>\n",
              "      <th>4698</th>\n",
              "      <td>peaceful days in shanghai</td>\n",
              "      <td>1</td>\n",
              "    </tr>\n",
              "  </tbody>\n",
              "</table>\n",
              "</div>"
            ],
            "text/plain": [
              "                                                  Judul  Label\n",
              "2386  buntut penerapan psbb palembang batas operasio...      1\n",
              "4374             rumah terbakar kog malah disuruh jarah      1\n",
              "4684  krn pemerintahnya ngeyel  rakyatnya bandel akh...      1\n",
              "5267                      hoax bisa membunuh  mematikan      1\n",
              "4698                          peaceful days in shanghai      1"
            ]
          },
          "metadata": {
            "tags": []
          },
          "execution_count": 8
        }
      ]
    },
    {
      "cell_type": "markdown",
      "metadata": {
        "id": "mIduOaMgwyLY"
      },
      "source": [
        "## Steming"
      ]
    },
    {
      "cell_type": "markdown",
      "metadata": {
        "id": "f-7G3CoJx7uY"
      },
      "source": [
        "Tahap steming merupakan penghapusan imbuhan dalam suatu kata. Tahap ini juga menggunakan library sastrawi."
      ]
    },
    {
      "cell_type": "code",
      "metadata": {
        "id": "VcAVKO4ryI7i"
      },
      "source": [
        "factory = StemmerFactory()\n",
        "stemmer = factory.create_stemmer()"
      ],
      "execution_count": 9,
      "outputs": []
    },
    {
      "cell_type": "markdown",
      "metadata": {
        "id": "s-JFv5fnye8G"
      },
      "source": [
        "Mengaplikasikan stemmer ke dalam dataset."
      ]
    },
    {
      "cell_type": "code",
      "metadata": {
        "colab": {
          "base_uri": "https://localhost:8080/",
          "height": 206
        },
        "id": "gGTTDzj9yi3z",
        "outputId": "1096b2d6-a50a-4e96-ebb0-57845f105b87"
      },
      "source": [
        "df['Judul'] = df['Judul'].apply(lambda judul:stemmer.stem(judul))\n",
        "\n",
        "df.sample(5)"
      ],
      "execution_count": 10,
      "outputs": [
        {
          "output_type": "execute_result",
          "data": {
            "text/html": [
              "<div>\n",
              "<style scoped>\n",
              "    .dataframe tbody tr th:only-of-type {\n",
              "        vertical-align: middle;\n",
              "    }\n",
              "\n",
              "    .dataframe tbody tr th {\n",
              "        vertical-align: top;\n",
              "    }\n",
              "\n",
              "    .dataframe thead th {\n",
              "        text-align: right;\n",
              "    }\n",
              "</style>\n",
              "<table border=\"1\" class=\"dataframe\">\n",
              "  <thead>\n",
              "    <tr style=\"text-align: right;\">\n",
              "      <th></th>\n",
              "      <th>Judul</th>\n",
              "      <th>Label</th>\n",
              "    </tr>\n",
              "  </thead>\n",
              "  <tbody>\n",
              "    <tr>\n",
              "      <th>1655</th>\n",
              "      <td>foto prabowo pakai uskup gereja</td>\n",
              "      <td>1</td>\n",
              "    </tr>\n",
              "    <tr>\n",
              "      <th>3830</th>\n",
              "      <td>akun facebook nama kang rijanto bukan milik bu...</td>\n",
              "      <td>1</td>\n",
              "    </tr>\n",
              "    <tr>\n",
              "      <th>600</th>\n",
              "      <td>bukan sebab vaksin siswa mi palembang tewas ra...</td>\n",
              "      <td>0</td>\n",
              "    </tr>\n",
              "    <tr>\n",
              "      <th>1508</th>\n",
              "      <td>pesan beranta kantor pusat pt kawan lama tutup...</td>\n",
              "      <td>1</td>\n",
              "    </tr>\n",
              "    <tr>\n",
              "      <th>2633</th>\n",
              "      <td>david beckham pakai kaos tulis free west papua...</td>\n",
              "      <td>1</td>\n",
              "    </tr>\n",
              "  </tbody>\n",
              "</table>\n",
              "</div>"
            ],
            "text/plain": [
              "                                                  Judul  Label\n",
              "1655                    foto prabowo pakai uskup gereja      1\n",
              "3830  akun facebook nama kang rijanto bukan milik bu...      1\n",
              "600   bukan sebab vaksin siswa mi palembang tewas ra...      0\n",
              "1508  pesan beranta kantor pusat pt kawan lama tutup...      1\n",
              "2633  david beckham pakai kaos tulis free west papua...      1"
            ]
          },
          "metadata": {
            "tags": []
          },
          "execution_count": 10
        }
      ]
    },
    {
      "cell_type": "markdown",
      "metadata": {
        "id": "QWfOCAGq4lmT"
      },
      "source": [
        "## Save verify_dataset_clean"
      ]
    },
    {
      "cell_type": "markdown",
      "metadata": {
        "id": "TbMIGxKo4sBO"
      },
      "source": [
        "Menyimpan dataset yang telah melalui tahap text_cleansing."
      ]
    },
    {
      "cell_type": "code",
      "metadata": {
        "id": "QKieVRj44rBV"
      },
      "source": [
        "df.to_csv('verify_dataset_clean.csv', index=False)"
      ],
      "execution_count": 11,
      "outputs": []
    }
  ]
}