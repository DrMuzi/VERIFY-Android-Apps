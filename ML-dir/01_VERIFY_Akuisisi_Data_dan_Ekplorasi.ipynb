{
  "nbformat": 4,
  "nbformat_minor": 0,
  "metadata": {
    "colab": {
      "name": "01-VERIFY-Akuisisi_Data_dan_Ekplorasi",
      "provenance": [],
      "toc_visible": true,
      "include_colab_link": true
    },
    "kernelspec": {
      "name": "python3",
      "display_name": "Python 3"
    },
    "language_info": {
      "name": "python"
    },
    "accelerator": "GPU"
  },
  "cells": [
    {
      "cell_type": "markdown",
      "metadata": {
        "id": "view-in-github",
        "colab_type": "text"
      },
      "source": [
        "<a href=\"https://colab.research.google.com/github/B21-CAP0133/verify-android-app/blob/master/ML-dir/01_VERIFY_Akuisisi_Data_dan_Ekplorasi.ipynb\" target=\"_parent\"><img src=\"https://colab.research.google.com/assets/colab-badge.svg\" alt=\"Open In Colab\"/></a>"
      ]
    },
    {
      "cell_type": "markdown",
      "metadata": {
        "id": "TD56pCjHK83T"
      },
      "source": [
        "# Satu Data Indonesia"
      ]
    },
    {
      "cell_type": "markdown",
      "metadata": {
        "id": "DkjgoCJCLCJX"
      },
      "source": [
        "Melakukan akuisisi data dengan mendownload dari website [Satu Data Indonesia](https://data.go.id)."
      ]
    },
    {
      "cell_type": "markdown",
      "metadata": {
        "id": "e7qnZHLyLTex"
      },
      "source": [
        "Melakukan import library yang dibutuhkan."
      ]
    },
    {
      "cell_type": "code",
      "metadata": {
        "id": "Rt2gubl3K02z"
      },
      "source": [
        "import pandas as pd"
      ],
      "execution_count": 1,
      "outputs": []
    },
    {
      "cell_type": "markdown",
      "metadata": {
        "id": "EADHquqgLbX8"
      },
      "source": [
        "Membuat list url sumber data yang selanjutnya akan diimport menjadi suatu DataFrame."
      ]
    },
    {
      "cell_type": "code",
      "metadata": {
        "id": "6wcW_-tDmCIC"
      },
      "source": [
        "url = ['https://data.go.id/dataset/daftar-hoax-januari-2019/fa6b9614-9bbf-481a-ade4-fda718db8ff4/download',\n",
        "       'https://data.go.id/dataset/daftar-hoax-januari-2019/33cc9b95-3b1d-48e8-b1ee-d3aaea330682/download',\n",
        "       'https://data.go.id/dataset/daftar-hoax-januari-2019/a5fbc4db-9c8e-431a-9f61-fe3b72a03988/download',\n",
        "       'https://data.go.id/dataset/daftar-hoax-januari-2019/f15f45a6-945b-4688-80eb-a50f9f1b7319/download',\n",
        "       'https://data.go.id/dataset/daftar-hoax-januari-2019/c4955491-6e1e-4d89-b33e-d51748a723b2/download',\n",
        "       'https://data.go.id/dataset/daftar-hoax-januari-2019/c4794215-a466-4f6c-ba7c-71749a1a0b45/download',\n",
        "       'https://data.go.id/dataset/daftar-hoax-januari-2019/397b97b1-af69-4b5f-b837-e4a860007c5f/download',\n",
        "       'https://data.go.id/dataset/daftar-hoax-januari-2019/b6506f60-9855-427d-9f9a-93f541365c32/download',\n",
        "       'https://data.go.id/dataset/rekapan-isu-hoax-2018/66655ca6-ef19-4ef3-8748-e27519876737/download',\n",
        "       'https://data.go.id/dataset/rekapan-isu-hoax-2018/0d8625ff-543c-440e-9568-4852a318bf02/download'\n",
        "       ]"
      ],
      "execution_count": 2,
      "outputs": []
    },
    {
      "cell_type": "markdown",
      "metadata": {
        "id": "BZlpaorTLqRh"
      },
      "source": [
        "Membuat fungsi untuk mengekstrak dataset dari berkas yang telah didownload."
      ]
    },
    {
      "cell_type": "code",
      "metadata": {
        "id": "5puNC9DRZlWb"
      },
      "source": [
        "def extract_from_sdi(url_source):\n",
        "  df = pd.read_excel(url_source)\n",
        "  if len(df.columns) > 5:\n",
        "    df.drop(columns=['Unnamed: 5'])\n",
        "  return df"
      ],
      "execution_count": 3,
      "outputs": []
    },
    {
      "cell_type": "markdown",
      "metadata": {
        "id": "sgFt-lkXLyK3"
      },
      "source": [
        "Melakukan ekstraksi data dari berkas yang didownload. Kemudian menghapus baris dan kolom yang tidak diperlukan. Kolom yang diperlukan merupakan kolom berisi judul berita dan label yang diberikan pada judul tersebut.\n",
        "\n",
        "_Dikarenakan keterbatasan ilmu, ekstraksi data dilakukan secara manual, satu-persatu. Diharapkan kedepannya dapat dilakukan secara otomatis_."
      ]
    },
    {
      "cell_type": "code",
      "metadata": {
        "id": "4AfKohMaaJrA"
      },
      "source": [
        "sdi_jan = extract_from_sdi(url[0]).drop(0)\n",
        "sdi_jan = sdi_jan.drop(columns=['RANGKUMAN BERITA HOAX BULAN JANUARI 2019',\n",
        "                                'Unnamed: 2',\n",
        "                                'Unnamed: 4',\n",
        "                                'Unnamed: 5']\n",
        "                       ).reset_index(drop=True)\n",
        "sdi_jan.columns = ['Judul','Label']\n",
        "\n",
        "sdi_feb = extract_from_sdi(url[1]).drop([0, 1, 2])\n",
        "sdi_feb = sdi_feb.drop(columns=['Unnamed: 0',\n",
        "                                'Unnamed: 2',\n",
        "                                'Unnamed: 4']\n",
        "                       ).reset_index(drop=True)\n",
        "sdi_feb.columns = ['Judul','Label']\n",
        "\n",
        "sdi_mar = extract_from_sdi(url[2]).drop([0, 1, 2])\n",
        "sdi_mar = sdi_mar.drop(columns=['Unnamed: 0',\n",
        "                                'Unnamed: 2',\n",
        "                                'Unnamed: 4']\n",
        "                       ).reset_index(drop=True)\n",
        "sdi_mar.columns = ['Judul','Label']\n",
        "\n",
        "sdi_apr = extract_from_sdi(url[3]).drop([0, 1, 2])\n",
        "sdi_apr = sdi_apr.drop(columns=['Unnamed: 0',\n",
        "                                'Unnamed: 2',\n",
        "                                'Unnamed: 4']\n",
        "                       ).reset_index(drop=True)\n",
        "sdi_apr.columns = ['Judul','Label']\n",
        "\n",
        "sdi_mei = extract_from_sdi(url[4]).drop([0, 1, 2])\n",
        "sdi_mei = sdi_mei.drop(columns=['Unnamed: 0',\n",
        "                                'Unnamed: 2',\n",
        "                                'Unnamed: 4']\n",
        "                       ).reset_index(drop=True)\n",
        "sdi_mei.columns = ['Judul','Label']\n",
        "\n",
        "sdi_jun = extract_from_sdi(url[5]).drop([0, 1, 2])\n",
        "sdi_jun = sdi_jun.drop(columns=['Unnamed: 0',\n",
        "                                'Unnamed: 2',\n",
        "                                'Unnamed: 4']\n",
        "                       ).reset_index(drop=True)\n",
        "sdi_jun.columns = ['Judul','Label']\n",
        "\n",
        "sdi_jul = extract_from_sdi(url[6]).drop([0, 1, 2])\n",
        "sdi_jul = sdi_jul.drop(columns=['Unnamed: 0',\n",
        "                                'Unnamed: 2',\n",
        "                                'Unnamed: 4']\n",
        "                       ).reset_index(drop=True)\n",
        "sdi_jul.columns = ['Judul','Label']\n",
        "\n",
        "sdi_agt = extract_from_sdi(url[7]).drop([0, 1, 2])\n",
        "sdi_agt = sdi_agt.drop(columns=['Unnamed: 0',\n",
        "                                'Unnamed: 2',\n",
        "                                'Unnamed: 4']\n",
        "                       ).reset_index(drop=True)\n",
        "sdi_agt.columns = ['Judul','Label']\n",
        "\n",
        "sdi_nov = extract_from_sdi(url[8]).drop([0])\n",
        "sdi_nov = sdi_nov.drop(columns=['RANGKUMAN BERITA HOAX BULAN NOVEMBER 2018',\n",
        "                                'Unnamed: 2',\n",
        "                                'Unnamed: 4',\n",
        "                                'Unnamed: 5']\n",
        "                       ).reset_index(drop=True)\n",
        "sdi_nov.columns = ['Judul','Label']\n",
        "\n",
        "sdi_des = extract_from_sdi(url[9]).drop([0])\n",
        "sdi_des = sdi_des.drop(columns=['RANGKUMAN BERITA HOAX BULAN DESEMBER 2018',\n",
        "                                'Unnamed: 2',\n",
        "                                'Unnamed: 4',\n",
        "                                'Unnamed: 5']\n",
        "                       ).reset_index(drop=True)\n",
        "sdi_des.columns = ['Judul','Label']"
      ],
      "execution_count": 4,
      "outputs": []
    },
    {
      "cell_type": "markdown",
      "metadata": {
        "id": "v6EQFBaPMWiu"
      },
      "source": [
        "Menggabungkan semua data yang telah diekstrak dan menjadikannya sebuah DataFrame df."
      ]
    },
    {
      "cell_type": "code",
      "metadata": {
        "id": "mAKaqNG0hB6j"
      },
      "source": [
        "sdi = [sdi_jan, sdi_feb, sdi_mar, sdi_apr, sdi_mei, sdi_jun, sdi_jul, sdi_agt, sdi_nov, sdi_des]\n",
        "\n",
        "df = sdi[0].append(sdi[1])\n",
        "i = 2\n",
        "while i < len(sdi):\n",
        "  df = df.append(sdi[i])\n",
        "  i += 1\n",
        "\n",
        "#df.sample(10)"
      ],
      "execution_count": 5,
      "outputs": []
    },
    {
      "cell_type": "markdown",
      "metadata": {
        "id": "dBRPdBLtMegx"
      },
      "source": [
        "Mendapatkan ukuran dari DataFrame."
      ]
    },
    {
      "cell_type": "code",
      "metadata": {
        "colab": {
          "base_uri": "https://localhost:8080/"
        },
        "id": "L7_LfTcMjfMV",
        "outputId": "302be342-c87a-40be-ddb3-b14b272bec3b"
      },
      "source": [
        "df.shape"
      ],
      "execution_count": 6,
      "outputs": [
        {
          "output_type": "execute_result",
          "data": {
            "text/plain": [
              "(1018, 2)"
            ]
          },
          "metadata": {
            "tags": []
          },
          "execution_count": 6
        }
      ]
    },
    {
      "cell_type": "markdown",
      "metadata": {
        "id": "ZZXcG1PdMkDe"
      },
      "source": [
        "Mengecek apakah ada sel kosong dalam kolom **Judul**."
      ]
    },
    {
      "cell_type": "code",
      "metadata": {
        "colab": {
          "base_uri": "https://localhost:8080/"
        },
        "id": "fgvUiQ4mjLGk",
        "outputId": "58c759d5-e479-4bcd-d872-3c2891a1e6ee"
      },
      "source": [
        "df['Judul'].isnull().any()"
      ],
      "execution_count": 7,
      "outputs": [
        {
          "output_type": "execute_result",
          "data": {
            "text/plain": [
              "False"
            ]
          },
          "metadata": {
            "tags": []
          },
          "execution_count": 7
        }
      ]
    },
    {
      "cell_type": "markdown",
      "metadata": {
        "id": "dEe04JcrMqfr"
      },
      "source": [
        "Mengecek apakah ada sel kosong dalam kolom **Label**."
      ]
    },
    {
      "cell_type": "code",
      "metadata": {
        "colab": {
          "base_uri": "https://localhost:8080/"
        },
        "id": "M9X-RUbhjS1h",
        "outputId": "5d8ae3a6-c316-43b5-bdd1-2976898818ea"
      },
      "source": [
        "df['Label'].isnull().any()"
      ],
      "execution_count": 8,
      "outputs": [
        {
          "output_type": "execute_result",
          "data": {
            "text/plain": [
              "False"
            ]
          },
          "metadata": {
            "tags": []
          },
          "execution_count": 8
        }
      ]
    },
    {
      "cell_type": "markdown",
      "metadata": {
        "id": "eCAIg_7oMwN4"
      },
      "source": [
        "Mengecek label yang diberikan pada data. Kemudian mencetak label-label yang tersedia."
      ]
    },
    {
      "cell_type": "code",
      "metadata": {
        "colab": {
          "base_uri": "https://localhost:8080/"
        },
        "id": "Lha_HMjuhU8r",
        "outputId": "963dbb09-6008-45e9-f00b-255cec1c1812"
      },
      "source": [
        "df['Label'].unique().size"
      ],
      "execution_count": 9,
      "outputs": [
        {
          "output_type": "execute_result",
          "data": {
            "text/plain": [
              "4"
            ]
          },
          "metadata": {
            "tags": []
          },
          "execution_count": 9
        }
      ]
    },
    {
      "cell_type": "code",
      "metadata": {
        "colab": {
          "base_uri": "https://localhost:8080/"
        },
        "id": "YAF0sySYiaeD",
        "outputId": "ad442c5c-41f7-4589-e900-86e071ccd22e"
      },
      "source": [
        "for label in sorted(df['Label'].unique()):\n",
        "  print(label)"
      ],
      "execution_count": 10,
      "outputs": [
        {
          "output_type": "stream",
          "text": [
            "BENAR\n",
            "BERITA\n",
            "HOAKS\n",
            "HOAX\n"
          ],
          "name": "stdout"
        }
      ]
    },
    {
      "cell_type": "markdown",
      "metadata": {
        "id": "ZMtUQMxVNYg3"
      },
      "source": [
        "Mengkonsistenkan pemberian label dimana **HOAKS** diubah menjadi **HOAX**.\n",
        "\n",
        "Kemudian menghapus baris yang memiliki label **BERITA**. Penghapusan dilakukan karena label tersebut tidak memberikan keterangan dengan jelas apakah judul berita tersebut hoax atau bukan. Diperlukan pengecekkan secara manual dan akan memakan waktu yang cukup lama."
      ]
    },
    {
      "cell_type": "code",
      "metadata": {
        "colab": {
          "base_uri": "https://localhost:8080/"
        },
        "id": "zpkyCtS_imm5",
        "outputId": "c73413f0-c710-4621-938a-a9863171f9f5"
      },
      "source": [
        "df.loc[df['Label'] == 'HOAKS', \n",
        "       'Label'] = 'HOAX'\n",
        "\n",
        "df = df.drop(df[df['Label'] == 'BERITA'].index)\n",
        "\n",
        "for label in sorted(df['Label'].unique()):\n",
        "  print(label)"
      ],
      "execution_count": 11,
      "outputs": [
        {
          "output_type": "stream",
          "text": [
            "BENAR\n",
            "HOAX\n"
          ],
          "name": "stdout"
        }
      ]
    },
    {
      "cell_type": "markdown",
      "metadata": {
        "id": "2Z429pnaN0gb"
      },
      "source": [
        "Mengecek bagaimana keseimbangan label dalam dataset menggunakan _bar chart_."
      ]
    },
    {
      "cell_type": "code",
      "metadata": {
        "colab": {
          "base_uri": "https://localhost:8080/",
          "height": 321
        },
        "id": "_GQWV8GNkU0v",
        "outputId": "08606e55-9fda-40f4-e1ad-f587d1be4dd2"
      },
      "source": [
        "label_dict = {}\n",
        "for label in sorted(df['Label']):\n",
        "  if label not in label_dict:\n",
        "    label_dict[label] = 0\n",
        "  label_dict[label] += 1\n",
        "\n",
        "label_df = pd.DataFrame(label_dict.items(), columns=['Label', 'Count'])\n",
        "label_df.plot.bar('Label', 'Count')"
      ],
      "execution_count": 12,
      "outputs": [
        {
          "output_type": "execute_result",
          "data": {
            "text/plain": [
              "<matplotlib.axes._subplots.AxesSubplot at 0x7fd993906550>"
            ]
          },
          "metadata": {
            "tags": []
          },
          "execution_count": 12
        },
        {
          "output_type": "display_data",
          "data": {
            "image/png": "[encoded data removed]",
            "text/plain": [
              "<Figure size 432x288 with 1 Axes>"
            ]
          },
          "metadata": {
            "tags": [],
            "needs_background": "light"
          }
        }
      ]
    },
    {
      "cell_type": "markdown",
      "metadata": {
        "id": "13xRkY4bONHt"
      },
      "source": [
        "_Bar chart_ di atas memberikan informasi bahwa terdapat masalah _Imbalance Class_ dimana kelas dengan label **HOAX** memiliki jumlah yang jauh lebih banyak dibandingkan dengan label **BENAR**. Hal ini akan membuat model _machine learning_ yang akan dibuat cenderung mengklasifikasikan ke dalam kelas **HOAX**.\n",
        "\n",
        "Untuk mengatasi masalah ini akan dilakukan penambahan jumlah dataset dengan label **BENAR** dengan cara melakukan _scraping_ pada website [turnbackhoax](https://turnbackhoax.com) dan mencari berita dengan label **BENAR**."
      ]
    },
    {
      "cell_type": "markdown",
      "metadata": {
        "id": "Wxt6wJEd9GLI"
      },
      "source": [
        "# TurnBackHoax"
      ]
    },
    {
      "cell_type": "markdown",
      "metadata": {
        "id": "2hVXvMxrgCus"
      },
      "source": [
        "Melakukan akuisisi data kembali dengan melakukan _scraping_ dari [turnbackhoax](https://turnbackhoax.id)"
      ]
    },
    {
      "cell_type": "markdown",
      "metadata": {
        "id": "gvoyuWHbgQUZ"
      },
      "source": [
        "Melakukan import library yang dibutuhkan"
      ]
    },
    {
      "cell_type": "code",
      "metadata": {
        "id": "wEBhf1Fwlq_B"
      },
      "source": [
        "import requests\n",
        "from bs4 import BeautifulSoup\n",
        "import pandas as pd"
      ],
      "execution_count": 13,
      "outputs": []
    },
    {
      "cell_type": "markdown",
      "metadata": {
        "id": "Zmou5skrfTnY"
      },
      "source": [
        "## Label BENAR"
      ]
    },
    {
      "cell_type": "markdown",
      "metadata": {
        "id": "dzfRgs68gYa2"
      },
      "source": [
        "Membuat list berisi link yang akan dijadikan tujuan _scraping_."
      ]
    },
    {
      "cell_type": "code",
      "metadata": {
        "id": "f3rgaF-Ie3uQ"
      },
      "source": [
        "url2 = ['https://turnbackhoax.id/?s=%5Bbenar%5D']\n",
        "i = 2\n",
        "while i <= 22:\n",
        "  url2.append('https://turnbackhoax.id/page/{}/?s=%5Bbenar%5D'.format(i))\n",
        "  i+=1\n",
        "\n",
        "#url2"
      ],
      "execution_count": 14,
      "outputs": []
    },
    {
      "cell_type": "markdown",
      "metadata": {
        "id": "UFznIeFYgv8F"
      },
      "source": [
        "Mengambil bagian yang dibutuhkan dari website turnbackhoax. Dalam hal ini adalah headline dari berita dengan label BENAR. Label HOAX tidak diambil karena label BENAR merupakan kelas minor dalam kasus ini. Bagian dari website yang akan diambil memakai tag \\<a>."
      ]
    },
    {
      "cell_type": "code",
      "metadata": {
        "id": "cnkViY-r-Vy1"
      },
      "source": [
        "session_benar = requests.Session()\n",
        "links_benar = []\n",
        "\n",
        "for u2 in url2:\n",
        "  res_benar = session_benar.get(u2)\n",
        "  soup_benar = BeautifulSoup(res_benar.content)\n",
        "  for a in soup_benar.find_all('a', {'rel': 'bookmark'}):\n",
        "    # print(a)\n",
        "    links_benar.append(a.get_text().strip())\n",
        "\n",
        "#links_benar"
      ],
      "execution_count": 15,
      "outputs": []
    },
    {
      "cell_type": "markdown",
      "metadata": {
        "id": "JMEZsaw9hPoZ"
      },
      "source": [
        "Mengecek jumlah judul berita berlabel BENAR yang didapatkan dari proses _scraping_."
      ]
    },
    {
      "cell_type": "code",
      "metadata": {
        "colab": {
          "base_uri": "https://localhost:8080/"
        },
        "id": "M8v9KEpV_MiB",
        "outputId": "92dc805e-c13c-42e5-c92b-18bf1586798b"
      },
      "source": [
        "len(links_benar)"
      ],
      "execution_count": 16,
      "outputs": [
        {
          "output_type": "execute_result",
          "data": {
            "text/plain": [
              "431"
            ]
          },
          "metadata": {
            "tags": []
          },
          "execution_count": 16
        }
      ]
    },
    {
      "cell_type": "markdown",
      "metadata": {
        "id": "XbegZKUohbbz"
      },
      "source": [
        "Menghapus tulisan '[BENAR]' dalam setiap judul berita karena tulisan tersebut tidak termasuk ke dalam bagian judul."
      ]
    },
    {
      "cell_type": "code",
      "metadata": {
        "id": "qUDy_2-TCba_"
      },
      "source": [
        "to_appends_benar = []\n",
        "for link_benar in links_benar:\n",
        "  to_append_benar = link_benar.replace('[BENAR]', '')\n",
        "  to_appends_benar.append(to_append_benar)\n",
        "\n",
        "#to_appends_benar"
      ],
      "execution_count": 17,
      "outputs": []
    },
    {
      "cell_type": "markdown",
      "metadata": {
        "id": "vBEP-cZShst8"
      },
      "source": [
        "Membuat DataFrame baru dengan nama to_append_df yang berisi judul berita hasil scraping dengan label BENAR."
      ]
    },
    {
      "cell_type": "code",
      "metadata": {
        "colab": {
          "base_uri": "https://localhost:8080/",
          "height": 206
        },
        "id": "9JPNfPyGCxEM",
        "outputId": "05438764-cb84-45ac-e03d-036fa64bd1d2"
      },
      "source": [
        "to_appends_benar_df = pd.DataFrame(to_appends_benar, columns=['Judul'])\n",
        "to_appends_benar_df['Label'] = 'BENAR'\n",
        "to_appends_benar_df.head()"
      ],
      "execution_count": 18,
      "outputs": [
        {
          "output_type": "execute_result",
          "data": {
            "text/html": [
              "<div>\n",
              "<style scoped>\n",
              "    .dataframe tbody tr th:only-of-type {\n",
              "        vertical-align: middle;\n",
              "    }\n",
              "\n",
              "    .dataframe tbody tr th {\n",
              "        vertical-align: top;\n",
              "    }\n",
              "\n",
              "    .dataframe thead th {\n",
              "        text-align: right;\n",
              "    }\n",
              "</style>\n",
              "<table border=\"1\" class=\"dataframe\">\n",
              "  <thead>\n",
              "    <tr style=\"text-align: right;\">\n",
              "      <th></th>\n",
              "      <th>Judul</th>\n",
              "      <th>Label</th>\n",
              "    </tr>\n",
              "  </thead>\n",
              "  <tbody>\n",
              "    <tr>\n",
              "      <th>0</th>\n",
              "      <td>Bahaya Daging Kurban Dibungkus Kresek Hitam</td>\n",
              "      <td>BENAR</td>\n",
              "    </tr>\n",
              "    <tr>\n",
              "      <th>1</th>\n",
              "      <td>SPP SMA/SMK GRATIS JAWA TIMUR</td>\n",
              "      <td>BENAR</td>\n",
              "    </tr>\n",
              "    <tr>\n",
              "      <th>2</th>\n",
              "      <td>Klarifikasi BIN terkait Pesan Berantai yang S...</td>\n",
              "      <td>BENAR</td>\n",
              "    </tr>\n",
              "    <tr>\n",
              "      <th>3</th>\n",
              "      <td>Dianggap Lecehkan Guru, Iklan Hago Diprotes</td>\n",
              "      <td>BENAR</td>\n",
              "    </tr>\n",
              "    <tr>\n",
              "      <th>4</th>\n",
              "      <td>Klarifikasi “#SOSDrJohnSimpsonForIndonesia”</td>\n",
              "      <td>BENAR</td>\n",
              "    </tr>\n",
              "  </tbody>\n",
              "</table>\n",
              "</div>"
            ],
            "text/plain": [
              "                                               Judul  Label\n",
              "0        Bahaya Daging Kurban Dibungkus Kresek Hitam  BENAR\n",
              "1                      SPP SMA/SMK GRATIS JAWA TIMUR  BENAR\n",
              "2   Klarifikasi BIN terkait Pesan Berantai yang S...  BENAR\n",
              "3        Dianggap Lecehkan Guru, Iklan Hago Diprotes  BENAR\n",
              "4        Klarifikasi “#SOSDrJohnSimpsonForIndonesia”  BENAR"
            ]
          },
          "metadata": {
            "tags": []
          },
          "execution_count": 18
        }
      ]
    },
    {
      "cell_type": "markdown",
      "metadata": {
        "id": "UpWsq5J-mjAw"
      },
      "source": [
        "Mengecek terlebih dahulu apakah ada sel kosong dalam kolom **Judul** sebelum nanti akan digabungkan."
      ]
    },
    {
      "cell_type": "code",
      "metadata": {
        "colab": {
          "base_uri": "https://localhost:8080/"
        },
        "id": "bpDXCudCmj3B",
        "outputId": "e78a0404-f965-4679-ecca-0c1e6fecbb84"
      },
      "source": [
        "to_appends_benar_df['Judul'].isnull().any()"
      ],
      "execution_count": 19,
      "outputs": [
        {
          "output_type": "execute_result",
          "data": {
            "text/plain": [
              "False"
            ]
          },
          "metadata": {
            "tags": []
          },
          "execution_count": 19
        }
      ]
    },
    {
      "cell_type": "markdown",
      "metadata": {
        "id": "CylEmdpUmzPw"
      },
      "source": [
        "Mengecek terlebih dahulu apakah ada sel kosong dalam kolom **Label** sebelum nanti akan digabungkan."
      ]
    },
    {
      "cell_type": "code",
      "metadata": {
        "colab": {
          "base_uri": "https://localhost:8080/"
        },
        "id": "8VkZMwPjmweK",
        "outputId": "4860b921-e926-41fa-b041-8dd5ceffe11d"
      },
      "source": [
        "to_appends_benar_df['Label'].isnull().any()"
      ],
      "execution_count": 20,
      "outputs": [
        {
          "output_type": "execute_result",
          "data": {
            "text/plain": [
              "False"
            ]
          },
          "metadata": {
            "tags": []
          },
          "execution_count": 20
        }
      ]
    },
    {
      "cell_type": "markdown",
      "metadata": {
        "id": "khKIQiqMh-kE"
      },
      "source": [
        "Menggabungkan DataFrame yang telah didapatkan sebelumnya (dataset_df) dengan DataFrame baru."
      ]
    },
    {
      "cell_type": "code",
      "metadata": {
        "id": "gyNoQZ5zEUJ3"
      },
      "source": [
        "df_sdi_tb = df.append(to_appends_benar_df)\n",
        "\n",
        "df_sdi_tb.reset_index(inplace=True, drop=True)\n",
        "#df_sdi_tb"
      ],
      "execution_count": 21,
      "outputs": []
    },
    {
      "cell_type": "markdown",
      "metadata": {
        "id": "7lgiZcwziF9i"
      },
      "source": [
        "Mengecek kembali bagaimana keseimbangan label dalam dataset menggunakan _bar chart_."
      ]
    },
    {
      "cell_type": "code",
      "metadata": {
        "colab": {
          "base_uri": "https://localhost:8080/",
          "height": 321
        },
        "id": "9xJAOVBtFruX",
        "outputId": "92645267-d838-4eca-e96b-3a5b75abe6bc"
      },
      "source": [
        "label_dict = {}\n",
        "for label in sorted(df_sdi_tb['Label']):\n",
        "  if label not in label_dict:\n",
        "    label_dict[label] = 0\n",
        "  label_dict[label] += 1\n",
        "\n",
        "label_df = pd.DataFrame(label_dict.items(), columns=['Label', 'Count'])\n",
        "#label_df.sort_values(by='Count', ascending=False).head()\n",
        "label_df.plot.bar('Label', 'Count')"
      ],
      "execution_count": 22,
      "outputs": [
        {
          "output_type": "execute_result",
          "data": {
            "text/plain": [
              "<matplotlib.axes._subplots.AxesSubplot at 0x7fd99142c110>"
            ]
          },
          "metadata": {
            "tags": []
          },
          "execution_count": 22
        },
        {
          "output_type": "display_data",
          "data": {
            "image/png": "[encoded data removed]",
            "text/plain": [
              "<Figure size 432x288 with 1 Axes>"
            ]
          },
          "metadata": {
            "tags": [],
            "needs_background": "light"
          }
        }
      ]
    },
    {
      "cell_type": "markdown",
      "metadata": {
        "id": "e78Yy6CUfX_h"
      },
      "source": [
        "## Label HOAX"
      ]
    },
    {
      "cell_type": "markdown",
      "metadata": {
        "id": "jE16it1yffaE"
      },
      "source": [
        "Melakukan hal yang sama dengan Label BENAR. Namun diterapkan pada label HOAX."
      ]
    },
    {
      "cell_type": "code",
      "metadata": {
        "id": "MLvZElGVfO-a"
      },
      "source": [
        "url3 = ['https://turnbackhoax.id/?s=%5Bhoax%5D']\n",
        "i = 2\n",
        "while i <= 22:\n",
        "  url3.append('https://turnbackhoax.id/page/{}/?s=%5Bhoax%5D'.format(i))\n",
        "  i+=1\n",
        "\n",
        "#url3"
      ],
      "execution_count": 23,
      "outputs": []
    },
    {
      "cell_type": "code",
      "metadata": {
        "id": "FwhJP07HfhMI"
      },
      "source": [
        "session_hoax = requests.Session()\n",
        "links_hoax = []\n",
        "\n",
        "for u3 in url3:\n",
        "  res_hoax = session_hoax.get(u3)\n",
        "  soup_hoax = BeautifulSoup(res_hoax.content)\n",
        "  for a in soup_hoax.find_all('a', {'rel': 'bookmark'}):\n",
        "    # print(a)\n",
        "    links_hoax.append(a.get_text().strip())\n",
        "\n",
        "#links_hoax"
      ],
      "execution_count": 24,
      "outputs": []
    },
    {
      "cell_type": "code",
      "metadata": {
        "colab": {
          "base_uri": "https://localhost:8080/"
        },
        "id": "8ZYkH2XwgKJT",
        "outputId": "83aa299d-073f-4e9f-8882-cb74ef71f4bd"
      },
      "source": [
        "len(links_hoax)"
      ],
      "execution_count": 25,
      "outputs": [
        {
          "output_type": "execute_result",
          "data": {
            "text/plain": [
              "433"
            ]
          },
          "metadata": {
            "tags": []
          },
          "execution_count": 25
        }
      ]
    },
    {
      "cell_type": "code",
      "metadata": {
        "id": "d_P-GV9ngMcO"
      },
      "source": [
        "to_appends_hoax = []\n",
        "for link_hoax in links_hoax:\n",
        "  to_append_hoax = link_hoax.replace('[HOAX]', '')\n",
        "  to_appends_hoax.append(to_append_hoax)\n",
        "\n",
        "#to_appends_hoax"
      ],
      "execution_count": 26,
      "outputs": []
    },
    {
      "cell_type": "code",
      "metadata": {
        "colab": {
          "base_uri": "https://localhost:8080/",
          "height": 206
        },
        "id": "Ra_Rky3jgQ-R",
        "outputId": "2464ef07-1378-4ad5-eaf8-9fead0a219b8"
      },
      "source": [
        "to_appends_hoax_df = pd.DataFrame(to_appends_hoax, columns=['Judul'])\n",
        "to_appends_hoax_df['Label'] = 'HOAX'\n",
        "to_appends_hoax_df.head()"
      ],
      "execution_count": 27,
      "outputs": [
        {
          "output_type": "execute_result",
          "data": {
            "text/html": [
              "<div>\n",
              "<style scoped>\n",
              "    .dataframe tbody tr th:only-of-type {\n",
              "        vertical-align: middle;\n",
              "    }\n",
              "\n",
              "    .dataframe tbody tr th {\n",
              "        vertical-align: top;\n",
              "    }\n",
              "\n",
              "    .dataframe thead th {\n",
              "        text-align: right;\n",
              "    }\n",
              "</style>\n",
              "<table border=\"1\" class=\"dataframe\">\n",
              "  <thead>\n",
              "    <tr style=\"text-align: right;\">\n",
              "      <th></th>\n",
              "      <th>Judul</th>\n",
              "      <th>Label</th>\n",
              "    </tr>\n",
              "  </thead>\n",
              "  <tbody>\n",
              "    <tr>\n",
              "      <th>0</th>\n",
              "      <td>Minum Air Es Sebabkan Sakit Jantung</td>\n",
              "      <td>HOAX</td>\n",
              "    </tr>\n",
              "    <tr>\n",
              "      <th>1</th>\n",
              "      <td>: KIPER PERSIB BANDUNG, I MADE WIRAWAN MENINGGAL</td>\n",
              "      <td>HOAX</td>\n",
              "    </tr>\n",
              "    <tr>\n",
              "      <th>2</th>\n",
              "      <td>“Pembangunan Gereja Terbesar se – Asia Tengga...</td>\n",
              "      <td>HOAX</td>\n",
              "    </tr>\n",
              "    <tr>\n",
              "      <th>3</th>\n",
              "      <td>“INSTITUT PENCEGAHAN KANKER MENGUMUMKAN RANKI...</td>\n",
              "      <td>HOAX</td>\n",
              "    </tr>\n",
              "    <tr>\n",
              "      <th>4</th>\n",
              "      <td>Gantungan Kunci Gratis Dipasang GPS</td>\n",
              "      <td>HOAX</td>\n",
              "    </tr>\n",
              "  </tbody>\n",
              "</table>\n",
              "</div>"
            ],
            "text/plain": [
              "                                               Judul Label\n",
              "0                Minum Air Es Sebabkan Sakit Jantung  HOAX\n",
              "1   : KIPER PERSIB BANDUNG, I MADE WIRAWAN MENINGGAL  HOAX\n",
              "2   “Pembangunan Gereja Terbesar se – Asia Tengga...  HOAX\n",
              "3   “INSTITUT PENCEGAHAN KANKER MENGUMUMKAN RANKI...  HOAX\n",
              "4                Gantungan Kunci Gratis Dipasang GPS  HOAX"
            ]
          },
          "metadata": {
            "tags": []
          },
          "execution_count": 27
        }
      ]
    },
    {
      "cell_type": "code",
      "metadata": {
        "colab": {
          "base_uri": "https://localhost:8080/"
        },
        "id": "n0MhatB_gYLB",
        "outputId": "0771a34d-fd1b-475c-8456-368a5680bea2"
      },
      "source": [
        "to_appends_hoax_df['Judul'].isnull().any()"
      ],
      "execution_count": 28,
      "outputs": [
        {
          "output_type": "execute_result",
          "data": {
            "text/plain": [
              "False"
            ]
          },
          "metadata": {
            "tags": []
          },
          "execution_count": 28
        }
      ]
    },
    {
      "cell_type": "code",
      "metadata": {
        "colab": {
          "base_uri": "https://localhost:8080/"
        },
        "id": "-WofhpZrgabp",
        "outputId": "25d208b6-a3d9-417b-f7dc-6df923766fdb"
      },
      "source": [
        "to_appends_hoax_df['Label'].isnull().any()"
      ],
      "execution_count": 29,
      "outputs": [
        {
          "output_type": "execute_result",
          "data": {
            "text/plain": [
              "False"
            ]
          },
          "metadata": {
            "tags": []
          },
          "execution_count": 29
        }
      ]
    },
    {
      "cell_type": "code",
      "metadata": {
        "id": "MJHhpHGWgdRk"
      },
      "source": [
        "df_sdi_tb_th = df_sdi_tb.append(to_appends_hoax_df)\n",
        "\n",
        "df_sdi_tb_th.reset_index(inplace=True, drop=True)\n",
        "#dataset_df_tb_th"
      ],
      "execution_count": 30,
      "outputs": []
    },
    {
      "cell_type": "markdown",
      "metadata": {
        "id": "NOPX3ERTpkny"
      },
      "source": [
        "## One Hot Encoding"
      ]
    },
    {
      "cell_type": "markdown",
      "metadata": {
        "id": "k_tg1AwKpHhw"
      },
      "source": [
        "Membuat fungsi one_hot_encoding. BENAR = 0 dan HOAX = 1."
      ]
    },
    {
      "cell_type": "code",
      "metadata": {
        "id": "nnEuYZqno1qG"
      },
      "source": [
        "def one_hot_encoding(label):\n",
        "  if label == 'BENAR':\n",
        "    label = 0\n",
        "  if label == 'HOAX':\n",
        "    label = 1\n",
        "  \n",
        "  return label"
      ],
      "execution_count": 31,
      "outputs": []
    },
    {
      "cell_type": "markdown",
      "metadata": {
        "id": "erHuKDPXpPKM"
      },
      "source": [
        "Mengaplikasikan fungsi one_hot_encoding pada data df_sdi_tb_th."
      ]
    },
    {
      "cell_type": "code",
      "metadata": {
        "colab": {
          "base_uri": "https://localhost:8080/",
          "height": 206
        },
        "id": "kUJM-H_8pXbV",
        "outputId": "6d4a2c61-cf84-47b6-89ed-92dcda1cfbac"
      },
      "source": [
        "df_sdi_tb_th['Label'] = df_sdi_tb_th['Label'].apply(one_hot_encoding)\n",
        "\n",
        "df_sdi_tb_th.sample(5)"
      ],
      "execution_count": 32,
      "outputs": [
        {
          "output_type": "execute_result",
          "data": {
            "text/html": [
              "<div>\n",
              "<style scoped>\n",
              "    .dataframe tbody tr th:only-of-type {\n",
              "        vertical-align: middle;\n",
              "    }\n",
              "\n",
              "    .dataframe tbody tr th {\n",
              "        vertical-align: top;\n",
              "    }\n",
              "\n",
              "    .dataframe thead th {\n",
              "        text-align: right;\n",
              "    }\n",
              "</style>\n",
              "<table border=\"1\" class=\"dataframe\">\n",
              "  <thead>\n",
              "    <tr style=\"text-align: right;\">\n",
              "      <th></th>\n",
              "      <th>Judul</th>\n",
              "      <th>Label</th>\n",
              "    </tr>\n",
              "  </thead>\n",
              "  <tbody>\n",
              "    <tr>\n",
              "      <th>877</th>\n",
              "      <td>Klarifikasi UIN Sunan Kalijaga dan UII Terkai...</td>\n",
              "      <td>0</td>\n",
              "    </tr>\n",
              "    <tr>\n",
              "      <th>836</th>\n",
              "      <td>Klarifikasi @susipudjiastuti Mengenai “Mensup...</td>\n",
              "      <td>0</td>\n",
              "    </tr>\n",
              "    <tr>\n",
              "      <th>292</th>\n",
              "      <td>Tarif Dasar Listrik Naik Lagi Awal Juli 2019</td>\n",
              "      <td>1</td>\n",
              "    </tr>\n",
              "    <tr>\n",
              "      <th>1126</th>\n",
              "      <td>Masjid Raya Daan Mogot atau KH. Hasyim Asy’ar...</td>\n",
              "      <td>1</td>\n",
              "    </tr>\n",
              "    <tr>\n",
              "      <th>533</th>\n",
              "      <td>Kemenristek Dikti Bantah Surat Terkait Pengem...</td>\n",
              "      <td>0</td>\n",
              "    </tr>\n",
              "  </tbody>\n",
              "</table>\n",
              "</div>"
            ],
            "text/plain": [
              "                                                  Judul  Label\n",
              "877    Klarifikasi UIN Sunan Kalijaga dan UII Terkai...      0\n",
              "836    Klarifikasi @susipudjiastuti Mengenai “Mensup...      0\n",
              "292       Tarif Dasar Listrik Naik Lagi Awal Juli 2019       1\n",
              "1126   Masjid Raya Daan Mogot atau KH. Hasyim Asy’ar...      1\n",
              "533    Kemenristek Dikti Bantah Surat Terkait Pengem...      0"
            ]
          },
          "metadata": {
            "tags": []
          },
          "execution_count": 32
        }
      ]
    },
    {
      "cell_type": "code",
      "metadata": {
        "colab": {
          "base_uri": "https://localhost:8080/",
          "height": 293
        },
        "id": "lE-nZX9upehB",
        "outputId": "7054ee48-4188-4714-eb46-49baef37b4fc"
      },
      "source": [
        "label_dict = {}\n",
        "for label in sorted(df_sdi_tb_th['Label']):\n",
        "  if label not in label_dict:\n",
        "    label_dict[label] = 0\n",
        "  label_dict[label] += 1\n",
        "\n",
        "label_df = pd.DataFrame(label_dict.items(), columns=['Label', 'Count'])\n",
        "#label_df.sort_values(by='Count', ascending=False).head()\n",
        "label_df.plot.bar('Label', 'Count')"
      ],
      "execution_count": 33,
      "outputs": [
        {
          "output_type": "execute_result",
          "data": {
            "text/plain": [
              "<matplotlib.axes._subplots.AxesSubplot at 0x7fd992247610>"
            ]
          },
          "metadata": {
            "tags": []
          },
          "execution_count": 33
        },
        {
          "output_type": "display_data",
          "data": {
            "image/png": "[encoded data removed]",
            "text/plain": [
              "<Figure size 432x288 with 1 Axes>"
            ]
          },
          "metadata": {
            "tags": [],
            "needs_background": "light"
          }
        }
      ]
    },
    {
      "cell_type": "markdown",
      "metadata": {
        "id": "4OadfapzjNBt"
      },
      "source": [
        "# Kaggle (efradgamer/fixed-bdc)"
      ]
    },
    {
      "cell_type": "markdown",
      "metadata": {
        "id": "4iTpCFO-jVtA"
      },
      "source": [
        "Melakukan akuisisi data kembali dengan mendownload dari kaggle (efradgamer/fixed-bdc). Upload kaggle.json terlebih dahulu."
      ]
    },
    {
      "cell_type": "code",
      "metadata": {
        "colab": {
          "base_uri": "https://localhost:8080/"
        },
        "id": "6m59XkD58meZ",
        "outputId": "970dea43-56ef-4545-fd61-089a7b020f1b"
      },
      "source": [
        "! chmod 600 kaggle.json && (ls ~/.kaggle 2>/dev/null || mkdir ~/.kaggle) && mv kaggle.json ~/.kaggle/ && echo 'Done'"
      ],
      "execution_count": 34,
      "outputs": [
        {
          "output_type": "stream",
          "text": [
            "Done\n"
          ],
          "name": "stdout"
        }
      ]
    },
    {
      "cell_type": "code",
      "metadata": {
        "colab": {
          "base_uri": "https://localhost:8080/"
        },
        "id": "t3mtUW0v9hTB",
        "outputId": "e28d45d1-016f-48b3-aacf-42f97671f3ec"
      },
      "source": [
        "! kaggle datasets download efradgamer/fixed-bdc\n",
        "! ls"
      ],
      "execution_count": 35,
      "outputs": [
        {
          "output_type": "stream",
          "text": [
            "Downloading fixed-bdc.zip to /content\n",
            " 99% 1.01G/1.02G [00:33<00:00, 30.5MB/s]\n",
            "100% 1.02G/1.02G [00:33<00:00, 32.1MB/s]\n",
            "fixed-bdc.zip  sample_data\n"
          ],
          "name": "stdout"
        }
      ]
    },
    {
      "cell_type": "markdown",
      "metadata": {
        "id": "2nSXrArUjmZN"
      },
      "source": [
        "Melakukan import library yang dibutuhkan."
      ]
    },
    {
      "cell_type": "code",
      "metadata": {
        "id": "xH0oMIn59m-k"
      },
      "source": [
        "import pandas as pd\n",
        "import zipfile"
      ],
      "execution_count": 36,
      "outputs": []
    },
    {
      "cell_type": "markdown",
      "metadata": {
        "id": "tEZ_taMEjptE"
      },
      "source": [
        "unzip berkas yang telah didownload."
      ]
    },
    {
      "cell_type": "code",
      "metadata": {
        "id": "dVaosUqD98HC"
      },
      "source": [
        "src_zipfile = '/content/fixed-bdc.zip'\n",
        "zip_file = zipfile.ZipFile(src_zipfile, 'r')\n",
        "zip_file.extractall('/content')\n",
        "zip_file.close()"
      ],
      "execution_count": 37,
      "outputs": []
    },
    {
      "cell_type": "markdown",
      "metadata": {
        "id": "Wf9hARg-js8G"
      },
      "source": [
        "Melakukan ekstraksi dari berkas yang telah didownload. Kemudian menghapus kolom-kolom yang tidak dibutuhkan."
      ]
    },
    {
      "cell_type": "code",
      "metadata": {
        "id": "fGqfxwYI-qQO",
        "colab": {
          "base_uri": "https://localhost:8080/",
          "height": 206
        },
        "outputId": "48e15a7d-98c6-4458-a670-63f410f4fa3f"
      },
      "source": [
        "kag = pd.read_excel('Data BDC - Satria Data 2020/Data Latih/Data Latih BDC.xlsx')\n",
        "kag = kag.drop(columns=['ID',\n",
        "                        'tanggal',\n",
        "                        'narasi',\n",
        "                        'nama file gambar']\n",
        "                       ).reset_index(drop=True)\n",
        "kag.sample(5)"
      ],
      "execution_count": 38,
      "outputs": [
        {
          "output_type": "execute_result",
          "data": {
            "text/html": [
              "<div>\n",
              "<style scoped>\n",
              "    .dataframe tbody tr th:only-of-type {\n",
              "        vertical-align: middle;\n",
              "    }\n",
              "\n",
              "    .dataframe tbody tr th {\n",
              "        vertical-align: top;\n",
              "    }\n",
              "\n",
              "    .dataframe thead th {\n",
              "        text-align: right;\n",
              "    }\n",
              "</style>\n",
              "<table border=\"1\" class=\"dataframe\">\n",
              "  <thead>\n",
              "    <tr style=\"text-align: right;\">\n",
              "      <th></th>\n",
              "      <th>label</th>\n",
              "      <th>judul</th>\n",
              "    </tr>\n",
              "  </thead>\n",
              "  <tbody>\n",
              "    <tr>\n",
              "      <th>4031</th>\n",
              "      <td>0</td>\n",
              "      <td>Kemenhub Beri Klarifikasi Atas Kabar yang Meny...</td>\n",
              "    </tr>\n",
              "    <tr>\n",
              "      <th>3567</th>\n",
              "      <td>1</td>\n",
              "      <td>SUKU DAYAK DUKUNG AHOK FULL UNTUK CEO IKN, SUK...</td>\n",
              "    </tr>\n",
              "    <tr>\n",
              "      <th>4216</th>\n",
              "      <td>1</td>\n",
              "      <td>Pesan Terakhir Seorang Miliarder Bernama Steve...</td>\n",
              "    </tr>\n",
              "    <tr>\n",
              "      <th>3786</th>\n",
              "      <td>0</td>\n",
              "      <td>: Wortel Dari Cina Yang Bisa Membuat Bodoh Anak</td>\n",
              "    </tr>\n",
              "    <tr>\n",
              "      <th>2619</th>\n",
              "      <td>1</td>\n",
              "      <td>Henry Cavill Meninggal</td>\n",
              "    </tr>\n",
              "  </tbody>\n",
              "</table>\n",
              "</div>"
            ],
            "text/plain": [
              "      label                                              judul\n",
              "4031      0  Kemenhub Beri Klarifikasi Atas Kabar yang Meny...\n",
              "3567      1  SUKU DAYAK DUKUNG AHOK FULL UNTUK CEO IKN, SUK...\n",
              "4216      1  Pesan Terakhir Seorang Miliarder Bernama Steve...\n",
              "3786      0    : Wortel Dari Cina Yang Bisa Membuat Bodoh Anak\n",
              "2619      1                             Henry Cavill Meninggal"
            ]
          },
          "metadata": {
            "tags": []
          },
          "execution_count": 38
        }
      ]
    },
    {
      "cell_type": "markdown",
      "metadata": {
        "id": "je25feT3np3n"
      },
      "source": [
        "Memperbaiki nama kolom sehingga seragam dengan DataFrame yang telah ada."
      ]
    },
    {
      "cell_type": "code",
      "metadata": {
        "colab": {
          "base_uri": "https://localhost:8080/",
          "height": 206
        },
        "id": "XI54X3qO-03S",
        "outputId": "8b7249d7-5e37-44d7-9518-a083ee43f892"
      },
      "source": [
        "kag.columns = ['Label', 'Judul']\n",
        "kag.head()"
      ],
      "execution_count": 39,
      "outputs": [
        {
          "output_type": "execute_result",
          "data": {
            "text/html": [
              "<div>\n",
              "<style scoped>\n",
              "    .dataframe tbody tr th:only-of-type {\n",
              "        vertical-align: middle;\n",
              "    }\n",
              "\n",
              "    .dataframe tbody tr th {\n",
              "        vertical-align: top;\n",
              "    }\n",
              "\n",
              "    .dataframe thead th {\n",
              "        text-align: right;\n",
              "    }\n",
              "</style>\n",
              "<table border=\"1\" class=\"dataframe\">\n",
              "  <thead>\n",
              "    <tr style=\"text-align: right;\">\n",
              "      <th></th>\n",
              "      <th>Label</th>\n",
              "      <th>Judul</th>\n",
              "    </tr>\n",
              "  </thead>\n",
              "  <tbody>\n",
              "    <tr>\n",
              "      <th>0</th>\n",
              "      <td>1</td>\n",
              "      <td>Pemakaian Masker Menyebabkan Penyakit Legionna...</td>\n",
              "    </tr>\n",
              "    <tr>\n",
              "      <th>1</th>\n",
              "      <td>1</td>\n",
              "      <td>Instruksi Gubernur Jateng tentang penilangan  ...</td>\n",
              "    </tr>\n",
              "    <tr>\n",
              "      <th>2</th>\n",
              "      <td>1</td>\n",
              "      <td>Foto Jim Rohn: Jokowi adalah presiden terbaik ...</td>\n",
              "    </tr>\n",
              "    <tr>\n",
              "      <th>3</th>\n",
              "      <td>1</td>\n",
              "      <td>ini bukan politik, tapi kenyataan Pak Jokowi b...</td>\n",
              "    </tr>\n",
              "    <tr>\n",
              "      <th>4</th>\n",
              "      <td>1</td>\n",
              "      <td>Foto Kadrun kalo lihat foto ini panas dingin</td>\n",
              "    </tr>\n",
              "  </tbody>\n",
              "</table>\n",
              "</div>"
            ],
            "text/plain": [
              "   Label                                              Judul\n",
              "0      1  Pemakaian Masker Menyebabkan Penyakit Legionna...\n",
              "1      1  Instruksi Gubernur Jateng tentang penilangan  ...\n",
              "2      1  Foto Jim Rohn: Jokowi adalah presiden terbaik ...\n",
              "3      1  ini bukan politik, tapi kenyataan Pak Jokowi b...\n",
              "4      1       Foto Kadrun kalo lihat foto ini panas dingin"
            ]
          },
          "metadata": {
            "tags": []
          },
          "execution_count": 39
        }
      ]
    },
    {
      "cell_type": "code",
      "metadata": {
        "colab": {
          "base_uri": "https://localhost:8080/",
          "height": 206
        },
        "id": "G_83_zPGAaOp",
        "outputId": "1dbdf3c2-6976-41b7-9a31-5b3ff165f024"
      },
      "source": [
        "kag = kag[['Judul', 'Label']]\n",
        "kag.tail()"
      ],
      "execution_count": 40,
      "outputs": [
        {
          "output_type": "execute_result",
          "data": {
            "text/html": [
              "<div>\n",
              "<style scoped>\n",
              "    .dataframe tbody tr th:only-of-type {\n",
              "        vertical-align: middle;\n",
              "    }\n",
              "\n",
              "    .dataframe tbody tr th {\n",
              "        vertical-align: top;\n",
              "    }\n",
              "\n",
              "    .dataframe thead th {\n",
              "        text-align: right;\n",
              "    }\n",
              "</style>\n",
              "<table border=\"1\" class=\"dataframe\">\n",
              "  <thead>\n",
              "    <tr style=\"text-align: right;\">\n",
              "      <th></th>\n",
              "      <th>Judul</th>\n",
              "      <th>Label</th>\n",
              "    </tr>\n",
              "  </thead>\n",
              "  <tbody>\n",
              "    <tr>\n",
              "      <th>4226</th>\n",
              "      <td>: KPK Dilarang Membawa Brimob Bersenjata Masuk...</td>\n",
              "      <td>1</td>\n",
              "    </tr>\n",
              "    <tr>\n",
              "      <th>4227</th>\n",
              "      <td>Foto pejabat keuangan dibawah palu arit</td>\n",
              "      <td>1</td>\n",
              "    </tr>\n",
              "    <tr>\n",
              "      <th>4228</th>\n",
              "      <td>Gambar Denny Siregar Musuh Warga Tasikmalaya d...</td>\n",
              "      <td>1</td>\n",
              "    </tr>\n",
              "    <tr>\n",
              "      <th>4229</th>\n",
              "      <td>Kaesang: Bapak Saya dengan Kesederhaan Bisa Ni...</td>\n",
              "      <td>1</td>\n",
              "    </tr>\n",
              "    <tr>\n",
              "      <th>4230</th>\n",
              "      <td>Laser dari termometer gun akan merusak struktu...</td>\n",
              "      <td>1</td>\n",
              "    </tr>\n",
              "  </tbody>\n",
              "</table>\n",
              "</div>"
            ],
            "text/plain": [
              "                                                  Judul  Label\n",
              "4226  : KPK Dilarang Membawa Brimob Bersenjata Masuk...      1\n",
              "4227            Foto pejabat keuangan dibawah palu arit      1\n",
              "4228  Gambar Denny Siregar Musuh Warga Tasikmalaya d...      1\n",
              "4229  Kaesang: Bapak Saya dengan Kesederhaan Bisa Ni...      1\n",
              "4230  Laser dari termometer gun akan merusak struktu...      1"
            ]
          },
          "metadata": {
            "tags": []
          },
          "execution_count": 40
        }
      ]
    },
    {
      "cell_type": "code",
      "metadata": {
        "colab": {
          "base_uri": "https://localhost:8080/",
          "height": 206
        },
        "id": "Ot_cE1rrkk_X",
        "outputId": "43b7163c-fc4e-4147-da2c-f5473fd87c7f"
      },
      "source": [
        "df_sdi_tb_th_kg = df_sdi_tb_th.append(kag)\n",
        "df_sdi_tb_th_kg.sample(5)"
      ],
      "execution_count": 41,
      "outputs": [
        {
          "output_type": "execute_result",
          "data": {
            "text/html": [
              "<div>\n",
              "<style scoped>\n",
              "    .dataframe tbody tr th:only-of-type {\n",
              "        vertical-align: middle;\n",
              "    }\n",
              "\n",
              "    .dataframe tbody tr th {\n",
              "        vertical-align: top;\n",
              "    }\n",
              "\n",
              "    .dataframe thead th {\n",
              "        text-align: right;\n",
              "    }\n",
              "</style>\n",
              "<table border=\"1\" class=\"dataframe\">\n",
              "  <thead>\n",
              "    <tr style=\"text-align: right;\">\n",
              "      <th></th>\n",
              "      <th>Judul</th>\n",
              "      <th>Label</th>\n",
              "    </tr>\n",
              "  </thead>\n",
              "  <tbody>\n",
              "    <tr>\n",
              "      <th>858</th>\n",
              "      <td>“Dengan Air Mata PM Kanada Menyambut Pengungs...</td>\n",
              "      <td>0</td>\n",
              "    </tr>\n",
              "    <tr>\n",
              "      <th>421</th>\n",
              "      <td>: Tim Sari Roti Sombong Menanggapi Isu Boikot</td>\n",
              "      <td>0</td>\n",
              "    </tr>\n",
              "    <tr>\n",
              "      <th>524</th>\n",
              "      <td>Luhut Melarang Anies Merombak Pejabat DKI</td>\n",
              "      <td>0</td>\n",
              "    </tr>\n",
              "    <tr>\n",
              "      <th>3222</th>\n",
              "      <td>PKI sudah dilatih pegang senjata FPI kpan,,,?</td>\n",
              "      <td>0</td>\n",
              "    </tr>\n",
              "    <tr>\n",
              "      <th>2323</th>\n",
              "      <td>Pesan Berantai Warga Madiun Siap Jadi Penganti...</td>\n",
              "      <td>1</td>\n",
              "    </tr>\n",
              "  </tbody>\n",
              "</table>\n",
              "</div>"
            ],
            "text/plain": [
              "                                                  Judul  Label\n",
              "858    “Dengan Air Mata PM Kanada Menyambut Pengungs...      0\n",
              "421       : Tim Sari Roti Sombong Menanggapi Isu Boikot      0\n",
              "524           Luhut Melarang Anies Merombak Pejabat DKI      0\n",
              "3222      PKI sudah dilatih pegang senjata FPI kpan,,,?      0\n",
              "2323  Pesan Berantai Warga Madiun Siap Jadi Penganti...      1"
            ]
          },
          "metadata": {
            "tags": []
          },
          "execution_count": 41
        }
      ]
    },
    {
      "cell_type": "markdown",
      "metadata": {
        "id": "gfWoyzKBkqDN"
      },
      "source": [
        "Mengecek keseimbangan label dalam data df_sdi_tb_th_kg."
      ]
    },
    {
      "cell_type": "code",
      "metadata": {
        "colab": {
          "base_uri": "https://localhost:8080/",
          "height": 293
        },
        "id": "NIOM5qacAwQd",
        "outputId": "77cb2314-d097-47a2-a3e9-b22db4751a65"
      },
      "source": [
        "label_dict = {}\n",
        "for label in sorted(df_sdi_tb_th_kg['Label']):\n",
        "  if label not in label_dict:\n",
        "    label_dict[label] = 0\n",
        "  label_dict[label] += 1\n",
        "\n",
        "label_df = pd.DataFrame(label_dict.items(), columns=['Label', 'Count'])\n",
        "#label_df.sort_values(by='Count', ascending=False).head()\n",
        "label_df.plot.bar('Label', 'Count')"
      ],
      "execution_count": 42,
      "outputs": [
        {
          "output_type": "execute_result",
          "data": {
            "text/plain": [
              "<matplotlib.axes._subplots.AxesSubplot at 0x7fd991f109d0>"
            ]
          },
          "metadata": {
            "tags": []
          },
          "execution_count": 42
        },
        {
          "output_type": "display_data",
          "data": {
            "image/png": "[encoded data removed]",
            "text/plain": [
              "<Figure size 432x288 with 1 Axes>"
            ]
          },
          "metadata": {
            "tags": [],
            "needs_background": "light"
          }
        }
      ]
    },
    {
      "cell_type": "markdown",
      "metadata": {
        "id": "1rqb8EvX85kE"
      },
      "source": [
        "# CNN Indonesia"
      ]
    },
    {
      "cell_type": "markdown",
      "metadata": {
        "id": "jcgZVi5-8-Ra"
      },
      "source": [
        "Melakukan akuisisi data kembali dengan melakukan scraping dari [CNN Indonesia](https://www.cnnindonesia.com/)."
      ]
    },
    {
      "cell_type": "code",
      "metadata": {
        "id": "viY_GesXwcvn"
      },
      "source": [
        "url4 = []\n",
        "dates = ['01', '02', '03', '04', '05', '06', '07', '08', '09', '10', '11', '12', '13', '14',\n",
        "     '15', '16', '17', '18', '19', '20', '21', '22', '23', '24', '25', '26', '27', '28']\n",
        "months = ['01', '02', '03', '04', '05', '06', '07', '08', '09', '10', '11', '12']\n",
        "\n",
        "for month in months:\n",
        "  for date in dates:\n",
        "    url4.append('https://www.cnnindonesia.com/indeks?date=2020/{}/{}'.format(month, date))\n",
        "\n",
        "#url4"
      ],
      "execution_count": 43,
      "outputs": []
    },
    {
      "cell_type": "code",
      "metadata": {
        "colab": {
          "base_uri": "https://localhost:8080/"
        },
        "id": "qiJcQdRBsu7X",
        "outputId": "d1856864-95de-4a1b-ed21-aa5de689a011"
      },
      "source": [
        "session_cnn = requests.Session()\n",
        "links_cnn = []\n",
        "\n",
        "for u4 in url4:\n",
        "  res_cnn = session_cnn.get(u4)\n",
        "  soup_cnn = BeautifulSoup(res_cnn.content)\n",
        "  for h2 in soup_cnn.find_all('h2', {'class': 'title'}):\n",
        "    #print(h2)\n",
        "    links_cnn.append(h2.get_text().strip())\n",
        "\n",
        "len(links_cnn)"
      ],
      "execution_count": 44,
      "outputs": [
        {
          "output_type": "execute_result",
          "data": {
            "text/plain": [
              "8999"
            ]
          },
          "metadata": {
            "tags": []
          },
          "execution_count": 44
        }
      ]
    },
    {
      "cell_type": "code",
      "metadata": {
        "colab": {
          "base_uri": "https://localhost:8080/",
          "height": 206
        },
        "id": "tOI9UiHL7qK1",
        "outputId": "0c61273e-4741-4f50-e83f-e4001bea6e22"
      },
      "source": [
        "to_appends_cnn_df = pd.DataFrame(links_cnn, columns=['Judul'])\n",
        "to_appends_cnn_df['Label'] = 0\n",
        "to_appends_cnn_df.head()"
      ],
      "execution_count": 45,
      "outputs": [
        {
          "output_type": "execute_result",
          "data": {
            "text/html": [
              "<div>\n",
              "<style scoped>\n",
              "    .dataframe tbody tr th:only-of-type {\n",
              "        vertical-align: middle;\n",
              "    }\n",
              "\n",
              "    .dataframe tbody tr th {\n",
              "        vertical-align: top;\n",
              "    }\n",
              "\n",
              "    .dataframe thead th {\n",
              "        text-align: right;\n",
              "    }\n",
              "</style>\n",
              "<table border=\"1\" class=\"dataframe\">\n",
              "  <thead>\n",
              "    <tr style=\"text-align: right;\">\n",
              "      <th></th>\n",
              "      <th>Judul</th>\n",
              "      <th>Label</th>\n",
              "    </tr>\n",
              "  </thead>\n",
              "  <tbody>\n",
              "    <tr>\n",
              "      <th>0</th>\n",
              "      <td>Inisiator Aksi Bela Palestina Minta Polisi Beb...</td>\n",
              "      <td>0</td>\n",
              "    </tr>\n",
              "    <tr>\n",
              "      <th>1</th>\n",
              "      <td>Orang Tua Protes PPDB DKI 2021 Jalur Zonasi Ma...</td>\n",
              "      <td>0</td>\n",
              "    </tr>\n",
              "    <tr>\n",
              "      <th>2</th>\n",
              "      <td>Diculik ART, Anak Prajurit Kodam Jaya Ditemuka...</td>\n",
              "      <td>0</td>\n",
              "    </tr>\n",
              "    <tr>\n",
              "      <th>3</th>\n",
              "      <td>Studi: Kematian Bertambah 1 Juta di 29 Negara ...</td>\n",
              "      <td>0</td>\n",
              "    </tr>\n",
              "    <tr>\n",
              "      <th>4</th>\n",
              "      <td>Gaza Krisis Air Bersih Usai Gencatan Senjata I...</td>\n",
              "      <td>0</td>\n",
              "    </tr>\n",
              "  </tbody>\n",
              "</table>\n",
              "</div>"
            ],
            "text/plain": [
              "                                               Judul  Label\n",
              "0  Inisiator Aksi Bela Palestina Minta Polisi Beb...      0\n",
              "1  Orang Tua Protes PPDB DKI 2021 Jalur Zonasi Ma...      0\n",
              "2  Diculik ART, Anak Prajurit Kodam Jaya Ditemuka...      0\n",
              "3  Studi: Kematian Bertambah 1 Juta di 29 Negara ...      0\n",
              "4  Gaza Krisis Air Bersih Usai Gencatan Senjata I...      0"
            ]
          },
          "metadata": {
            "tags": []
          },
          "execution_count": 45
        }
      ]
    },
    {
      "cell_type": "code",
      "metadata": {
        "colab": {
          "base_uri": "https://localhost:8080/"
        },
        "id": "w8PDyRo077eQ",
        "outputId": "08ce3de1-36e5-489e-aa56-a2b675c14c69"
      },
      "source": [
        "df_sdi_tb_th_kg_cnn = df_sdi_tb_th_kg.append(to_appends_cnn_df)\n",
        "df_sdi_tb_th_kg_cnn.shape"
      ],
      "execution_count": 46,
      "outputs": [
        {
          "output_type": "execute_result",
          "data": {
            "text/plain": [
              "(14548, 2)"
            ]
          },
          "metadata": {
            "tags": []
          },
          "execution_count": 46
        }
      ]
    },
    {
      "cell_type": "markdown",
      "metadata": {
        "id": "gK6yurhINUgs"
      },
      "source": [
        "Menghapus data yang terduplikat"
      ]
    },
    {
      "cell_type": "code",
      "metadata": {
        "colab": {
          "base_uri": "https://localhost:8080/"
        },
        "id": "z2EDtY3DBTAB",
        "outputId": "cd9a28c6-ecfb-44be-fb74-210c0d2c05d0"
      },
      "source": [
        "df_sdi_tb_th_kg_cnn.drop_duplicates(subset='Judul', keep=False, inplace=True)\n",
        "df_sdi_tb_th_kg_cnn.shape"
      ],
      "execution_count": 47,
      "outputs": [
        {
          "output_type": "execute_result",
          "data": {
            "text/plain": [
              "(7277, 2)"
            ]
          },
          "metadata": {
            "tags": []
          },
          "execution_count": 47
        }
      ]
    },
    {
      "cell_type": "code",
      "metadata": {
        "colab": {
          "base_uri": "https://localhost:8080/",
          "height": 293
        },
        "id": "dUinLhrl8GDo",
        "outputId": "13a2a1f5-133e-4f0f-b2cb-66b827127da1"
      },
      "source": [
        "label_dict = {}\n",
        "for label in sorted(df_sdi_tb_th_kg_cnn['Label']):\n",
        "  if label not in label_dict:\n",
        "    label_dict[label] = 0\n",
        "  label_dict[label] += 1\n",
        "\n",
        "label_df = pd.DataFrame(label_dict.items(), columns=['Label', 'Count'])\n",
        "#label_df.sort_values(by='Count', ascending=False).head()\n",
        "label_df.plot.bar('Label', 'Count')"
      ],
      "execution_count": 48,
      "outputs": [
        {
          "output_type": "execute_result",
          "data": {
            "text/plain": [
              "<matplotlib.axes._subplots.AxesSubplot at 0x7fd991f04f10>"
            ]
          },
          "metadata": {
            "tags": []
          },
          "execution_count": 48
        },
        {
          "output_type": "display_data",
          "data": {
            "image/png": "[encoded data removed]",
            "text/plain": [
              "<Figure size 432x288 with 1 Axes>"
            ]
          },
          "metadata": {
            "tags": [],
            "needs_background": "light"
          }
        }
      ]
    },
    {
      "cell_type": "markdown",
      "metadata": {
        "id": "NvC7TP7H9IEk"
      },
      "source": [
        "# Menyimpan Dataset"
      ]
    },
    {
      "cell_type": "code",
      "metadata": {
        "id": "4CvJCyGjpPuE"
      },
      "source": [
        "df_sdi_tb_th_kg_cnn.to_csv('verify_dataset.csv', index=False)"
      ],
      "execution_count": 49,
      "outputs": []
    }
  ]
}